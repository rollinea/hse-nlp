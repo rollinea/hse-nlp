{
  "nbformat": 4,
  "nbformat_minor": 0,
  "metadata": {
    "colab": {
      "provenance": [],
      "collapsed_sections": [
        "jDkqRkfITk_2"
      ],
      "machine_shape": "hm",
      "toc_visible": true
    },
    "kernelspec": {
      "name": "python3",
      "display_name": "Python 3"
    },
    "language_info": {
      "name": "python"
    },
    "gpuClass": "standard",
    "accelerator": "GPU"
  },
  "cells": [
    {
      "cell_type": "code",
      "execution_count": null,
      "metadata": {
        "id": "ozS5QWXNyQUo"
      },
      "outputs": [],
      "source": [
        "import pandas as pd\n",
        "import numpy as np\n",
        "import pymorphy2\n",
        "import nltk\n",
        "from nltk.tokenize import sent_tokenize, word_tokenize\n",
        "import time\n",
        "from tqdm import tqdm\n",
        "import re\n",
        "from sklearn.feature_extraction.text import TfidfVectorizer\n",
        "from nltk.corpus import stopwords\n",
        "import pickle\n",
        "import matplotlib.pyplot as plt\n",
        "%matplotlib inline\n",
        "import gc\n"
      ]
    },
    {
      "cell_type": "markdown",
      "source": [
        "## Read data"
      ],
      "metadata": {
        "id": "3UB5MZVMzJfV"
      }
    },
    {
      "cell_type": "code",
      "source": [
        "path = 'test_data_exam_1.xlsx'"
      ],
      "metadata": {
        "id": "xn0MNiERyWCJ"
      },
      "execution_count": null,
      "outputs": []
    },
    {
      "cell_type": "code",
      "source": [
        "df = pd.read_excel(path, 0)"
      ],
      "metadata": {
        "id": "Hp9Lj-ugy8Ap"
      },
      "execution_count": null,
      "outputs": []
    },
    {
      "cell_type": "code",
      "source": [
        "num_rows, num_feature = df.shape\n",
        "print('Row number: ', num_rows)\n",
        "print('Feature number: ', num_feature)"
      ],
      "metadata": {
        "colab": {
          "base_uri": "https://localhost:8080/"
        },
        "id": "lBYATg7tzAOt",
        "outputId": "7213e649-a49c-4db9-e9c3-e44465ef8721"
      },
      "execution_count": null,
      "outputs": [
        {
          "output_type": "stream",
          "name": "stdout",
          "text": [
            "Row number:  8048\n",
            "Feature number:  2\n"
          ]
        }
      ]
    },
    {
      "cell_type": "code",
      "source": [
        "print(df.isna().sum())"
      ],
      "metadata": {
        "colab": {
          "base_uri": "https://localhost:8080/"
        },
        "id": "uUAQS2YjzBkW",
        "outputId": "51eb7b70-30d1-46f0-eebf-3e2c88c65f18"
      },
      "execution_count": null,
      "outputs": [
        {
          "output_type": "stream",
          "name": "stdout",
          "text": [
            "original_data    21\n",
            "score             0\n",
            "dtype: int64\n"
          ]
        }
      ]
    },
    {
      "cell_type": "code",
      "source": [
        "df = df.dropna(axis=0)\n",
        "df.reset_index(inplace=True, drop=True)"
      ],
      "metadata": {
        "id": "8hrbV304zCxN"
      },
      "execution_count": null,
      "outputs": []
    },
    {
      "cell_type": "code",
      "source": [
        "num_rows, num_feature = df.shape\n",
        "print('Row number: ', num_rows)\n",
        "print('Feature number: ', num_feature)"
      ],
      "metadata": {
        "colab": {
          "base_uri": "https://localhost:8080/"
        },
        "id": "y9_zdlvdzDNl",
        "outputId": "b6e011d2-931b-49c8-f468-2090ac6976eb"
      },
      "execution_count": null,
      "outputs": [
        {
          "output_type": "stream",
          "name": "stdout",
          "text": [
            "Row number:  8027\n",
            "Feature number:  2\n"
          ]
        }
      ]
    },
    {
      "cell_type": "code",
      "source": [
        "vc = df['score'].value_counts()"
      ],
      "metadata": {
        "id": "HzNwjUoIzEeS"
      },
      "execution_count": null,
      "outputs": []
    },
    {
      "cell_type": "code",
      "source": [
        "vc"
      ],
      "metadata": {
        "colab": {
          "base_uri": "https://localhost:8080/"
        },
        "id": "fPEVD0jFuP9i",
        "outputId": "8597f234-93a7-4ede-d9e8-f1722ba80040"
      },
      "execution_count": null,
      "outputs": [
        {
          "output_type": "execute_result",
          "data": {
            "text/plain": [
              " 0    4180\n",
              "-1    2746\n",
              " 1     523\n",
              "-2     473\n",
              " 2     105\n",
              "Name: score, dtype: int64"
            ]
          },
          "metadata": {},
          "execution_count": 230
        }
      ]
    },
    {
      "cell_type": "code",
      "source": [
        " 0    4180\n",
        "-1    2746\n",
        " 1     523\n",
        "-2     473\n",
        " 2     105"
      ],
      "metadata": {
        "id": "xUe-OAoNuQwM"
      },
      "execution_count": null,
      "outputs": []
    },
    {
      "cell_type": "code",
      "source": [
        "df.hist('score')\n",
        "plt.show()"
      ],
      "metadata": {
        "colab": {
          "base_uri": "https://localhost:8080/",
          "height": 281
        },
        "id": "63kwBdXnzGW8",
        "outputId": "ed628cf0-9c4c-403a-f596-0e75371f55e1"
      },
      "execution_count": null,
      "outputs": [
        {
          "output_type": "display_data",
          "data": {
            "text/plain": [
              "<Figure size 432x288 with 1 Axes>"
            ],
            "image/png": "[encoded data removed]"
          },
          "metadata": {
            "needs_background": "light"
          }
        }
      ]
    },
    {
      "cell_type": "code",
      "source": [
        "y_test = df['score'].to_numpy()\n",
        "df.drop('score', inplace=True, axis=1)\n",
        "data = df.to_numpy()\n",
        "data = data.ravel()"
      ],
      "metadata": {
        "id": "83crZgkFzjna"
      },
      "execution_count": null,
      "outputs": []
    },
    {
      "cell_type": "code",
      "source": [
        "del df\n",
        "gc.collect()"
      ],
      "metadata": {
        "colab": {
          "base_uri": "https://localhost:8080/"
        },
        "id": "IwUQIZIWzxlv",
        "outputId": "1a02f1ad-e398-4cf3-eb79-c6b387b95b77"
      },
      "execution_count": null,
      "outputs": [
        {
          "output_type": "execute_result",
          "data": {
            "text/plain": [
              "4314"
            ]
          },
          "metadata": {},
          "execution_count": 88
        }
      ]
    },
    {
      "cell_type": "code",
      "source": [
        "y_test"
      ],
      "metadata": {
        "colab": {
          "base_uri": "https://localhost:8080/"
        },
        "id": "OBUovtzxs8Qn",
        "outputId": "a5bbdc03-ab5d-467f-ce7b-5ad7992db82f"
      },
      "execution_count": null,
      "outputs": [
        {
          "output_type": "execute_result",
          "data": {
            "text/plain": [
              "array([0, 0, 1, ..., 0, 0, 0])"
            ]
          },
          "metadata": {},
          "execution_count": 194
        }
      ]
    },
    {
      "cell_type": "markdown",
      "source": [
        "## Clean and lemmatize"
      ],
      "metadata": {
        "id": "Nn9wGKhGzTKX"
      }
    },
    {
      "cell_type": "code",
      "source": [
        "import gensim\n",
        "from gensim.models.doc2vec import Doc2Vec, TaggedDocument\n",
        "from nltk.tokenize import word_tokenize"
      ],
      "metadata": {
        "id": "Rwd5PUdnzUjA"
      },
      "execution_count": null,
      "outputs": []
    },
    {
      "cell_type": "code",
      "source": [
        "morph = pymorphy2.MorphAnalyzer()"
      ],
      "metadata": {
        "id": "p3BpBJb_9ESa"
      },
      "execution_count": null,
      "outputs": []
    },
    {
      "cell_type": "code",
      "source": [
        "X = []\n",
        "for i in tqdm(range(data.shape[0])):\n",
        "    s = str(data[i])\n",
        "    s = s.lower()\n",
        "    s1 = re.sub(r\"[,.?“/!@#$1234567890#—ツ►๑۩۞۩•*”˜˜”*°°*`)(]\", '', s)\n",
        "    word_list = nltk.word_tokenize(s1)\n",
        "    words = [morph.parse(word)[0].normal_form for word in word_list]\n",
        "    X.append(words)"
      ],
      "metadata": {
        "colab": {
          "base_uri": "https://localhost:8080/"
        },
        "id": "qyZgMR6O0Rnu",
        "outputId": "325c35da-854c-4a4f-d94d-4bfdd8cefa25"
      },
      "execution_count": null,
      "outputs": [
        {
          "output_type": "stream",
          "name": "stderr",
          "text": [
            "100%|██████████| 18729/18729 [09:12<00:00, 33.87it/s]\n"
          ]
        }
      ]
    },
    {
      "cell_type": "code",
      "source": [
        "import pickle\n",
        "with open('doc_train.pickle', 'wb') as f:\n",
        "  pickle.dump(documents, f)"
      ],
      "metadata": {
        "id": "Q_FZjxi6iYnC"
      },
      "execution_count": null,
      "outputs": []
    },
    {
      "cell_type": "code",
      "source": [
        "documents = [TaggedDocument(doc, [i]) for i, doc in enumerate(X)]"
      ],
      "metadata": {
        "id": "yi7FoQNGzdFV"
      },
      "execution_count": null,
      "outputs": []
    },
    {
      "cell_type": "code",
      "source": [
        "del X\n",
        "gc.collect()"
      ],
      "metadata": {
        "colab": {
          "base_uri": "https://localhost:8080/"
        },
        "id": "Oc8mBe-20GER",
        "outputId": "2d4ebf9d-14ec-4d85-81ac-4c65fb5fd8be"
      },
      "execution_count": null,
      "outputs": [
        {
          "output_type": "execute_result",
          "data": {
            "text/plain": [
              "0"
            ]
          },
          "metadata": {},
          "execution_count": 21
        }
      ]
    },
    {
      "cell_type": "markdown",
      "source": [
        "## Doc2vec"
      ],
      "metadata": {
        "id": "7pPl9SOW4X7c"
      }
    },
    {
      "cell_type": "code",
      "source": [
        "model = Doc2Vec(vector_size=300, window=2, min_count=1, workers=4, dm=0)"
      ],
      "metadata": {
        "id": "Dpc3XrFf0EJh"
      },
      "execution_count": null,
      "outputs": []
    },
    {
      "cell_type": "code",
      "source": [
        "model.build_vocab(documents)\n",
        "model.train(documents, total_examples=model.corpus_count, epochs=100)"
      ],
      "metadata": {
        "id": "ag4j1FaW5uoi"
      },
      "execution_count": null,
      "outputs": []
    },
    {
      "cell_type": "code",
      "source": [
        "dv_test = []"
      ],
      "metadata": {
        "id": "qul59I_7i_-u"
      },
      "execution_count": null,
      "outputs": []
    },
    {
      "cell_type": "code",
      "source": [
        "for i in tqdm(range(len(documents2))):\n",
        "  dv_test.append(model.infer_vector(documents2[i][0]))"
      ],
      "metadata": {
        "colab": {
          "base_uri": "https://localhost:8080/"
        },
        "id": "uEkjBUgjikKM",
        "outputId": "27b241a1-0485-4fe8-8d6f-c6ef5e1763f3"
      },
      "execution_count": null,
      "outputs": [
        {
          "output_type": "stream",
          "name": "stderr",
          "text": [
            "100%|██████████| 8027/8027 [04:04<00:00, 32.82it/s]\n"
          ]
        }
      ]
    },
    {
      "cell_type": "code",
      "source": [
        "dv_test = np.array(dv_test)"
      ],
      "metadata": {
        "id": "2gyBFb0YlU19"
      },
      "execution_count": null,
      "outputs": []
    },
    {
      "cell_type": "code",
      "source": [
        "dv_test.shape"
      ],
      "metadata": {
        "colab": {
          "base_uri": "https://localhost:8080/"
        },
        "id": "V3m78UiUlinj",
        "outputId": "62f1391d-f92f-452e-882d-b7c0fb317696"
      },
      "execution_count": null,
      "outputs": [
        {
          "output_type": "execute_result",
          "data": {
            "text/plain": [
              "(8027, 300)"
            ]
          },
          "metadata": {},
          "execution_count": 43
        }
      ]
    },
    {
      "cell_type": "code",
      "source": [
        "dv = model.docvecs.doctag_syn0"
      ],
      "metadata": {
        "colab": {
          "base_uri": "https://localhost:8080/"
        },
        "id": "oV8iWKi9Imma",
        "outputId": "cbe33082-82d8-48fc-94de-6a9ac223b3cf"
      },
      "execution_count": null,
      "outputs": [
        {
          "output_type": "stream",
          "name": "stderr",
          "text": [
            "<ipython-input-24-4a3c507c18b5>:1: DeprecationWarning: Call to deprecated `doctag_syn0` (Attribute will be removed in 4.0.0, use docvecs.vectors_docs instead).\n",
            "  dv = model.docvecs.doctag_syn0\n"
          ]
        }
      ]
    },
    {
      "cell_type": "code",
      "source": [
        "dv.shape"
      ],
      "metadata": {
        "colab": {
          "base_uri": "https://localhost:8080/"
        },
        "id": "hbH0cot8Jy_M",
        "outputId": "f3a54484-cb4b-4209-dd27-12584e89f5a3"
      },
      "execution_count": null,
      "outputs": [
        {
          "output_type": "execute_result",
          "data": {
            "text/plain": [
              "(18729, 300)"
            ]
          },
          "metadata": {},
          "execution_count": 25
        }
      ]
    },
    {
      "cell_type": "code",
      "source": [
        "import pickle\n",
        "with open('dv_train.pickle', 'wb') as f:\n",
        "  pickle.dump(dv, f)"
      ],
      "metadata": {
        "id": "hJjLQcmJg-Oi"
      },
      "execution_count": null,
      "outputs": []
    },
    {
      "cell_type": "code",
      "source": [
        "path = 'test_data_exam_1.xlsx'\n",
        "df = pd.read_excel(path, 0)\n",
        "df = df.dropna(axis=0)\n",
        "df.reset_index(inplace=True, drop=True)\n",
        "y = df['score'].to_numpy()\n",
        "df.drop('score', inplace=True, axis=1)\n",
        "data = df.to_numpy()\n",
        "data = data.ravel()\n",
        "del df\n",
        "gc.collect()"
      ],
      "metadata": {
        "colab": {
          "base_uri": "https://localhost:8080/"
        },
        "id": "NxB1FdWMno7m",
        "outputId": "261e39fe-96a4-43a9-cd68-b112fb57926d"
      },
      "execution_count": null,
      "outputs": [
        {
          "output_type": "execute_result",
          "data": {
            "text/plain": [
              "8203"
            ]
          },
          "metadata": {},
          "execution_count": 27
        }
      ]
    },
    {
      "cell_type": "code",
      "source": [
        "morph = pymorphy2.MorphAnalyzer()\n",
        "X = []\n",
        "for i in tqdm(range(data.shape[0])):\n",
        "    s = str(data[i])\n",
        "    s = s.lower()\n",
        "    s1 = re.sub(r\"[,.?“/!@#$1234567890#—ツ►๑۩۞۩•*”˜˜”*°°*`)(]\", '', s)\n",
        "    word_list = nltk.word_tokenize(s1)\n",
        "    words = [morph.parse(word)[0].normal_form for word in word_list]\n",
        "    X.append(words)\n",
        "\n",
        "documents2 = [TaggedDocument(doc, [i]) for i, doc in enumerate(X)]\n",
        "del X\n",
        "gc.collect()"
      ],
      "metadata": {
        "colab": {
          "base_uri": "https://localhost:8080/"
        },
        "id": "hh0kn38mnpDF",
        "outputId": "10f5faa9-bd01-464f-9a70-258c2df449b8"
      },
      "execution_count": null,
      "outputs": [
        {
          "output_type": "stream",
          "name": "stderr",
          "text": [
            "100%|██████████| 8027/8027 [03:54<00:00, 34.20it/s]\n"
          ]
        },
        {
          "output_type": "execute_result",
          "data": {
            "text/plain": [
              "8479"
            ]
          },
          "metadata": {},
          "execution_count": 28
        }
      ]
    },
    {
      "cell_type": "code",
      "source": [
        "import pickle\n",
        "with open('dv_test', 'wb') as f:\n",
        "  pickle.dump(dv_test, f)"
      ],
      "metadata": {
        "id": "FSu5nJ9GnpFc"
      },
      "execution_count": null,
      "outputs": []
    },
    {
      "cell_type": "markdown",
      "source": [
        "## DATA"
      ],
      "metadata": {
        "id": "tgJTp5c0mD5s"
      }
    },
    {
      "cell_type": "code",
      "source": [
        "y_train.shape"
      ],
      "metadata": {
        "colab": {
          "base_uri": "https://localhost:8080/"
        },
        "id": "v7whDEz7mF6N",
        "outputId": "aeedafd4-ca21-430f-e330-ea03aed5ca1c"
      },
      "execution_count": null,
      "outputs": [
        {
          "output_type": "execute_result",
          "data": {
            "text/plain": [
              "(18729,)"
            ]
          },
          "metadata": {},
          "execution_count": 97
        }
      ]
    },
    {
      "cell_type": "code",
      "source": [
        "with open('dv_test', 'rb') as f:\n",
        "  dv_test = pickle.load(f)"
      ],
      "metadata": {
        "id": "iSMVzP9BojRU"
      },
      "execution_count": null,
      "outputs": []
    },
    {
      "cell_type": "code",
      "source": [
        "dv_train = np.array(dv)"
      ],
      "metadata": {
        "id": "mLSo6EB2mRpU"
      },
      "execution_count": null,
      "outputs": []
    },
    {
      "cell_type": "code",
      "source": [
        "dv_train.shape"
      ],
      "metadata": {
        "colab": {
          "base_uri": "https://localhost:8080/"
        },
        "id": "wztXOvwbmixE",
        "outputId": "9353e97d-1b11-46ce-bc6a-4b6d418bf70f"
      },
      "execution_count": null,
      "outputs": [
        {
          "output_type": "execute_result",
          "data": {
            "text/plain": [
              "(18729, 300)"
            ]
          },
          "metadata": {},
          "execution_count": 92
        }
      ]
    },
    {
      "cell_type": "code",
      "source": [
        "dv_test.shape"
      ],
      "metadata": {
        "colab": {
          "base_uri": "https://localhost:8080/"
        },
        "id": "M2qhFh7AmlOE",
        "outputId": "d6d7a7b3-3092-41c9-c2b3-1a6f6d14770b"
      },
      "execution_count": null,
      "outputs": [
        {
          "output_type": "execute_result",
          "data": {
            "text/plain": [
              "(8027, 300)"
            ]
          },
          "metadata": {},
          "execution_count": 197
        }
      ]
    },
    {
      "cell_type": "markdown",
      "source": [
        "## Resample"
      ],
      "metadata": {
        "id": "esQ5BBztKpHn"
      }
    },
    {
      "cell_type": "code",
      "source": [
        "df1 = pd.DataFrame(data=dv_test)"
      ],
      "metadata": {
        "id": "vQzM4MuJKJ6d"
      },
      "execution_count": null,
      "outputs": []
    },
    {
      "cell_type": "code",
      "source": [
        "df1['score'] = pd.Series(data=y_test)"
      ],
      "metadata": {
        "id": "Z4ezY_Z3KobY"
      },
      "execution_count": null,
      "outputs": []
    },
    {
      "cell_type": "code",
      "source": [
        "df1['score'].value_counts()"
      ],
      "metadata": {
        "colab": {
          "base_uri": "https://localhost:8080/"
        },
        "id": "Op55fkaJKu1w",
        "outputId": "3c6daafe-775e-4e0c-d083-fdb30b2b55a9"
      },
      "execution_count": null,
      "outputs": [
        {
          "output_type": "execute_result",
          "data": {
            "text/plain": [
              " 0    4180\n",
              "-1    2746\n",
              " 1     523\n",
              "-2     473\n",
              " 2     105\n",
              "Name: score, dtype: int64"
            ]
          },
          "metadata": {},
          "execution_count": 200
        }
      ]
    },
    {
      "cell_type": "code",
      "source": [
        "from sklearn.utils import resample"
      ],
      "metadata": {
        "id": "mii8kiTcK-u3"
      },
      "execution_count": null,
      "outputs": []
    },
    {
      "cell_type": "code",
      "source": [
        "neg_2 = resample(df1[df1['score'] == -2], replace=True, n_samples=3000)"
      ],
      "metadata": {
        "id": "D6iOEd8tLWLJ"
      },
      "execution_count": null,
      "outputs": []
    },
    {
      "cell_type": "code",
      "source": [
        "neg_1 = resample(df1[df1['score'] == -1], replace=True, n_samples=3000)"
      ],
      "metadata": {
        "id": "Xh_KKp9VLcNG"
      },
      "execution_count": null,
      "outputs": []
    },
    {
      "cell_type": "code",
      "source": [
        "neu = resample(df1[df1['score'] == 0], replace=True, n_samples=3000)"
      ],
      "metadata": {
        "id": "KD5vpsRLLi8o"
      },
      "execution_count": null,
      "outputs": []
    },
    {
      "cell_type": "code",
      "source": [
        "pos_1 = resample(df1[df1['score'] == 1], replace=True, n_samples=3000)"
      ],
      "metadata": {
        "id": "i_Y74TG1Ll5X"
      },
      "execution_count": null,
      "outputs": []
    },
    {
      "cell_type": "code",
      "source": [
        "pos_2 = resample(df1[df1['score'] == 2], replace=True, n_samples=3000)"
      ],
      "metadata": {
        "id": "kexFTYc8LpJY"
      },
      "execution_count": null,
      "outputs": []
    },
    {
      "cell_type": "code",
      "source": [
        "df2 = pd.concat([neg_2, neg_1, neu, pos_1, pos_2])"
      ],
      "metadata": {
        "id": "zQsPWV5SLt9C"
      },
      "execution_count": null,
      "outputs": []
    },
    {
      "cell_type": "code",
      "source": [
        "del neg_1, neg_2, neu, pos_1, pos_2, df1\n",
        "gc.collect()"
      ],
      "metadata": {
        "colab": {
          "base_uri": "https://localhost:8080/"
        },
        "id": "vsYnVrgCLwG8",
        "outputId": "0d0c8f43-c2b2-4865-b785-f813cda68550"
      },
      "execution_count": null,
      "outputs": [
        {
          "output_type": "execute_result",
          "data": {
            "text/plain": [
              "180"
            ]
          },
          "metadata": {},
          "execution_count": 122
        }
      ]
    },
    {
      "cell_type": "code",
      "source": [
        "df2.shape"
      ],
      "metadata": {
        "colab": {
          "base_uri": "https://localhost:8080/"
        },
        "id": "5Fmp9hqoL4Xi",
        "outputId": "d6e414dd-2345-4bb4-9de5-a40f313ccdb2"
      },
      "execution_count": null,
      "outputs": [
        {
          "output_type": "execute_result",
          "data": {
            "text/plain": [
              "(15000, 301)"
            ]
          },
          "metadata": {},
          "execution_count": 117
        }
      ]
    },
    {
      "cell_type": "code",
      "source": [
        "df1.reset_index(inplace=True, drop=True)"
      ],
      "metadata": {
        "id": "9WrtGvoWL59O"
      },
      "execution_count": null,
      "outputs": []
    },
    {
      "cell_type": "code",
      "source": [
        "df1.columns = df1.columns.astype(str)"
      ],
      "metadata": {
        "id": "RQdZ_4rNL7zD"
      },
      "execution_count": null,
      "outputs": []
    },
    {
      "cell_type": "code",
      "source": [
        "df1"
      ],
      "metadata": {
        "colab": {
          "base_uri": "https://localhost:8080/",
          "height": 487
        },
        "id": "pv8yj9weqegp",
        "outputId": "a5ffe07c-9d02-41ef-e1cb-fb4f0ba18f74"
      },
      "execution_count": null,
      "outputs": [
        {
          "output_type": "execute_result",
          "data": {
            "text/plain": [
              "             0         1         2         3         4         5         6  \\\n",
              "0     0.725479  0.241782  0.196511 -0.491044 -0.675583 -0.925679  0.793826   \n",
              "1     0.604367  0.286039 -0.050120 -0.394460 -0.372753 -0.579163  0.234704   \n",
              "2    -0.324145  0.074789 -0.369120  0.476153  0.600380 -1.089299  0.509284   \n",
              "3     0.066521  0.812741 -0.111264 -0.063492  0.465883 -0.633962  0.188607   \n",
              "4     0.715068  0.108263  0.042148 -0.313054  0.146950 -1.139843 -0.578832   \n",
              "...        ...       ...       ...       ...       ...       ...       ...   \n",
              "8022  0.942091  0.495511  0.361698 -0.070220 -0.160352 -0.839838  0.048999   \n",
              "8023  0.544524  0.312927  0.338421 -0.861592 -0.562364  0.028820  0.098921   \n",
              "8024  0.840044 -0.369045  0.355645  0.218548  0.725968 -0.060891 -0.111631   \n",
              "8025  0.358782  0.446163  0.581172 -0.195890 -0.617574 -1.086239  0.842028   \n",
              "8026  0.082178  0.123974  0.770816 -0.394138 -0.033047  0.491479 -0.471774   \n",
              "\n",
              "             7         8         9  ...       291       292       293  \\\n",
              "0    -0.504964 -0.309309  0.567520  ...  0.428354 -0.775855  0.399552   \n",
              "1     0.174969  0.010553 -0.029779  ...  0.071632 -0.259794  0.451733   \n",
              "2    -0.702618  0.333241 -0.163175  ...  0.616127  0.650183 -0.302751   \n",
              "3    -0.346522 -0.458842 -0.419786  ... -0.055647  0.011968 -0.002347   \n",
              "4    -0.522158 -0.388335  0.157705  ...  0.043824  0.215929 -0.099605   \n",
              "...        ...       ...       ...  ...       ...       ...       ...   \n",
              "8022 -0.278410  0.087714  0.543629  ... -0.596566  0.499181  0.124303   \n",
              "8023 -0.013825 -0.538288 -0.046086  ...  0.335222 -0.164031  0.083966   \n",
              "8024 -0.025619 -0.226480  0.706097  ...  0.615762  0.285615  0.207367   \n",
              "8025 -0.067603 -0.153760 -0.240808  ...  0.495383  0.110161 -0.483042   \n",
              "8026 -0.458865 -0.922047  0.270585  ...  0.800092  0.974465 -0.018740   \n",
              "\n",
              "           294       295       296       297       298       299  score  \n",
              "0     0.330598 -0.257333  0.775793  0.074674 -0.233569  0.293203      0  \n",
              "1    -0.889941 -0.069556 -0.119188  0.347308  0.416245 -0.817566      0  \n",
              "2    -0.260221  0.067306  0.332898 -0.241929 -0.169211 -0.902173      1  \n",
              "3     0.365783  0.089735 -0.623509  0.801214 -0.425029  0.119087     -1  \n",
              "4     0.067155 -0.673705 -0.228468  0.287671 -0.468357  0.101548     -1  \n",
              "...        ...       ...       ...       ...       ...       ...    ...  \n",
              "8022  0.439629 -0.537780  1.308473  0.314554  0.326208  0.941027      0  \n",
              "8023 -0.951246  1.042996 -0.155475  0.834190 -0.847340 -0.513757      0  \n",
              "8024  0.214350 -0.283910 -0.626731  0.326400 -0.018844 -0.595503      0  \n",
              "8025  1.083475  0.461159  0.361210  0.156556 -0.211639 -0.367290      0  \n",
              "8026 -0.071496 -0.404228 -0.118014 -0.044194 -0.450774 -0.308704      0  \n",
              "\n",
              "[8027 rows x 301 columns]"
            ],
            "text/html": [
              "\n",
              "  <div id=\"df-f0a5dfc6-5501-4e65-8604-48ca5f0da7b0\">\n",
              "    <div class=\"colab-df-container\">\n",
              "      <div>\n",
              "<style scoped>\n",
              "    .dataframe tbody tr th:only-of-type {\n",
              "        vertical-align: middle;\n",
              "    }\n",
              "\n",
              "    .dataframe tbody tr th {\n",
              "        vertical-align: top;\n",
              "    }\n",
              "\n",
              "    .dataframe thead th {\n",
              "        text-align: right;\n",
              "    }\n",
              "</style>\n",
              "<table border=\"1\" class=\"dataframe\">\n",
              "  <thead>\n",
              "    <tr style=\"text-align: right;\">\n",
              "      <th></th>\n",
              "      <th>0</th>\n",
              "      <th>1</th>\n",
              "      <th>2</th>\n",
              "      <th>3</th>\n",
              "      <th>4</th>\n",
              "      <th>5</th>\n",
              "      <th>6</th>\n",
              "      <th>7</th>\n",
              "      <th>8</th>\n",
              "      <th>9</th>\n",
              "      <th>...</th>\n",
              "      <th>291</th>\n",
              "      <th>292</th>\n",
              "      <th>293</th>\n",
              "      <th>294</th>\n",
              "      <th>295</th>\n",
              "      <th>296</th>\n",
              "      <th>297</th>\n",
              "      <th>298</th>\n",
              "      <th>299</th>\n",
              "      <th>score</th>\n",
              "    </tr>\n",
              "  </thead>\n",
              "  <tbody>\n",
              "    <tr>\n",
              "      <th>0</th>\n",
              "      <td>0.725479</td>\n",
              "      <td>0.241782</td>\n",
              "      <td>0.196511</td>\n",
              "      <td>-0.491044</td>\n",
              "      <td>-0.675583</td>\n",
              "      <td>-0.925679</td>\n",
              "      <td>0.793826</td>\n",
              "      <td>-0.504964</td>\n",
              "      <td>-0.309309</td>\n",
              "      <td>0.567520</td>\n",
              "      <td>...</td>\n",
              "      <td>0.428354</td>\n",
              "      <td>-0.775855</td>\n",
              "      <td>0.399552</td>\n",
              "      <td>0.330598</td>\n",
              "      <td>-0.257333</td>\n",
              "      <td>0.775793</td>\n",
              "      <td>0.074674</td>\n",
              "      <td>-0.233569</td>\n",
              "      <td>0.293203</td>\n",
              "      <td>0</td>\n",
              "    </tr>\n",
              "    <tr>\n",
              "      <th>1</th>\n",
              "      <td>0.604367</td>\n",
              "      <td>0.286039</td>\n",
              "      <td>-0.050120</td>\n",
              "      <td>-0.394460</td>\n",
              "      <td>-0.372753</td>\n",
              "      <td>-0.579163</td>\n",
              "      <td>0.234704</td>\n",
              "      <td>0.174969</td>\n",
              "      <td>0.010553</td>\n",
              "      <td>-0.029779</td>\n",
              "      <td>...</td>\n",
              "      <td>0.071632</td>\n",
              "      <td>-0.259794</td>\n",
              "      <td>0.451733</td>\n",
              "      <td>-0.889941</td>\n",
              "      <td>-0.069556</td>\n",
              "      <td>-0.119188</td>\n",
              "      <td>0.347308</td>\n",
              "      <td>0.416245</td>\n",
              "      <td>-0.817566</td>\n",
              "      <td>0</td>\n",
              "    </tr>\n",
              "    <tr>\n",
              "      <th>2</th>\n",
              "      <td>-0.324145</td>\n",
              "      <td>0.074789</td>\n",
              "      <td>-0.369120</td>\n",
              "      <td>0.476153</td>\n",
              "      <td>0.600380</td>\n",
              "      <td>-1.089299</td>\n",
              "      <td>0.509284</td>\n",
              "      <td>-0.702618</td>\n",
              "      <td>0.333241</td>\n",
              "      <td>-0.163175</td>\n",
              "      <td>...</td>\n",
              "      <td>0.616127</td>\n",
              "      <td>0.650183</td>\n",
              "      <td>-0.302751</td>\n",
              "      <td>-0.260221</td>\n",
              "      <td>0.067306</td>\n",
              "      <td>0.332898</td>\n",
              "      <td>-0.241929</td>\n",
              "      <td>-0.169211</td>\n",
              "      <td>-0.902173</td>\n",
              "      <td>1</td>\n",
              "    </tr>\n",
              "    <tr>\n",
              "      <th>3</th>\n",
              "      <td>0.066521</td>\n",
              "      <td>0.812741</td>\n",
              "      <td>-0.111264</td>\n",
              "      <td>-0.063492</td>\n",
              "      <td>0.465883</td>\n",
              "      <td>-0.633962</td>\n",
              "      <td>0.188607</td>\n",
              "      <td>-0.346522</td>\n",
              "      <td>-0.458842</td>\n",
              "      <td>-0.419786</td>\n",
              "      <td>...</td>\n",
              "      <td>-0.055647</td>\n",
              "      <td>0.011968</td>\n",
              "      <td>-0.002347</td>\n",
              "      <td>0.365783</td>\n",
              "      <td>0.089735</td>\n",
              "      <td>-0.623509</td>\n",
              "      <td>0.801214</td>\n",
              "      <td>-0.425029</td>\n",
              "      <td>0.119087</td>\n",
              "      <td>-1</td>\n",
              "    </tr>\n",
              "    <tr>\n",
              "      <th>4</th>\n",
              "      <td>0.715068</td>\n",
              "      <td>0.108263</td>\n",
              "      <td>0.042148</td>\n",
              "      <td>-0.313054</td>\n",
              "      <td>0.146950</td>\n",
              "      <td>-1.139843</td>\n",
              "      <td>-0.578832</td>\n",
              "      <td>-0.522158</td>\n",
              "      <td>-0.388335</td>\n",
              "      <td>0.157705</td>\n",
              "      <td>...</td>\n",
              "      <td>0.043824</td>\n",
              "      <td>0.215929</td>\n",
              "      <td>-0.099605</td>\n",
              "      <td>0.067155</td>\n",
              "      <td>-0.673705</td>\n",
              "      <td>-0.228468</td>\n",
              "      <td>0.287671</td>\n",
              "      <td>-0.468357</td>\n",
              "      <td>0.101548</td>\n",
              "      <td>-1</td>\n",
              "    </tr>\n",
              "    <tr>\n",
              "      <th>...</th>\n",
              "      <td>...</td>\n",
              "      <td>...</td>\n",
              "      <td>...</td>\n",
              "      <td>...</td>\n",
              "      <td>...</td>\n",
              "      <td>...</td>\n",
              "      <td>...</td>\n",
              "      <td>...</td>\n",
              "      <td>...</td>\n",
              "      <td>...</td>\n",
              "      <td>...</td>\n",
              "      <td>...</td>\n",
              "      <td>...</td>\n",
              "      <td>...</td>\n",
              "      <td>...</td>\n",
              "      <td>...</td>\n",
              "      <td>...</td>\n",
              "      <td>...</td>\n",
              "      <td>...</td>\n",
              "      <td>...</td>\n",
              "      <td>...</td>\n",
              "    </tr>\n",
              "    <tr>\n",
              "      <th>8022</th>\n",
              "      <td>0.942091</td>\n",
              "      <td>0.495511</td>\n",
              "      <td>0.361698</td>\n",
              "      <td>-0.070220</td>\n",
              "      <td>-0.160352</td>\n",
              "      <td>-0.839838</td>\n",
              "      <td>0.048999</td>\n",
              "      <td>-0.278410</td>\n",
              "      <td>0.087714</td>\n",
              "      <td>0.543629</td>\n",
              "      <td>...</td>\n",
              "      <td>-0.596566</td>\n",
              "      <td>0.499181</td>\n",
              "      <td>0.124303</td>\n",
              "      <td>0.439629</td>\n",
              "      <td>-0.537780</td>\n",
              "      <td>1.308473</td>\n",
              "      <td>0.314554</td>\n",
              "      <td>0.326208</td>\n",
              "      <td>0.941027</td>\n",
              "      <td>0</td>\n",
              "    </tr>\n",
              "    <tr>\n",
              "      <th>8023</th>\n",
              "      <td>0.544524</td>\n",
              "      <td>0.312927</td>\n",
              "      <td>0.338421</td>\n",
              "      <td>-0.861592</td>\n",
              "      <td>-0.562364</td>\n",
              "      <td>0.028820</td>\n",
              "      <td>0.098921</td>\n",
              "      <td>-0.013825</td>\n",
              "      <td>-0.538288</td>\n",
              "      <td>-0.046086</td>\n",
              "      <td>...</td>\n",
              "      <td>0.335222</td>\n",
              "      <td>-0.164031</td>\n",
              "      <td>0.083966</td>\n",
              "      <td>-0.951246</td>\n",
              "      <td>1.042996</td>\n",
              "      <td>-0.155475</td>\n",
              "      <td>0.834190</td>\n",
              "      <td>-0.847340</td>\n",
              "      <td>-0.513757</td>\n",
              "      <td>0</td>\n",
              "    </tr>\n",
              "    <tr>\n",
              "      <th>8024</th>\n",
              "      <td>0.840044</td>\n",
              "      <td>-0.369045</td>\n",
              "      <td>0.355645</td>\n",
              "      <td>0.218548</td>\n",
              "      <td>0.725968</td>\n",
              "      <td>-0.060891</td>\n",
              "      <td>-0.111631</td>\n",
              "      <td>-0.025619</td>\n",
              "      <td>-0.226480</td>\n",
              "      <td>0.706097</td>\n",
              "      <td>...</td>\n",
              "      <td>0.615762</td>\n",
              "      <td>0.285615</td>\n",
              "      <td>0.207367</td>\n",
              "      <td>0.214350</td>\n",
              "      <td>-0.283910</td>\n",
              "      <td>-0.626731</td>\n",
              "      <td>0.326400</td>\n",
              "      <td>-0.018844</td>\n",
              "      <td>-0.595503</td>\n",
              "      <td>0</td>\n",
              "    </tr>\n",
              "    <tr>\n",
              "      <th>8025</th>\n",
              "      <td>0.358782</td>\n",
              "      <td>0.446163</td>\n",
              "      <td>0.581172</td>\n",
              "      <td>-0.195890</td>\n",
              "      <td>-0.617574</td>\n",
              "      <td>-1.086239</td>\n",
              "      <td>0.842028</td>\n",
              "      <td>-0.067603</td>\n",
              "      <td>-0.153760</td>\n",
              "      <td>-0.240808</td>\n",
              "      <td>...</td>\n",
              "      <td>0.495383</td>\n",
              "      <td>0.110161</td>\n",
              "      <td>-0.483042</td>\n",
              "      <td>1.083475</td>\n",
              "      <td>0.461159</td>\n",
              "      <td>0.361210</td>\n",
              "      <td>0.156556</td>\n",
              "      <td>-0.211639</td>\n",
              "      <td>-0.367290</td>\n",
              "      <td>0</td>\n",
              "    </tr>\n",
              "    <tr>\n",
              "      <th>8026</th>\n",
              "      <td>0.082178</td>\n",
              "      <td>0.123974</td>\n",
              "      <td>0.770816</td>\n",
              "      <td>-0.394138</td>\n",
              "      <td>-0.033047</td>\n",
              "      <td>0.491479</td>\n",
              "      <td>-0.471774</td>\n",
              "      <td>-0.458865</td>\n",
              "      <td>-0.922047</td>\n",
              "      <td>0.270585</td>\n",
              "      <td>...</td>\n",
              "      <td>0.800092</td>\n",
              "      <td>0.974465</td>\n",
              "      <td>-0.018740</td>\n",
              "      <td>-0.071496</td>\n",
              "      <td>-0.404228</td>\n",
              "      <td>-0.118014</td>\n",
              "      <td>-0.044194</td>\n",
              "      <td>-0.450774</td>\n",
              "      <td>-0.308704</td>\n",
              "      <td>0</td>\n",
              "    </tr>\n",
              "  </tbody>\n",
              "</table>\n",
              "<p>8027 rows × 301 columns</p>\n",
              "</div>\n",
              "      <button class=\"colab-df-convert\" onclick=\"convertToInteractive('df-f0a5dfc6-5501-4e65-8604-48ca5f0da7b0')\"\n",
              "              title=\"Convert this dataframe to an interactive table.\"\n",
              "              style=\"display:none;\">\n",
              "        \n",
              "  <svg xmlns=\"http://www.w3.org/2000/svg\" height=\"24px\"viewBox=\"0 0 24 24\"\n",
              "       width=\"24px\">\n",
              "    <path d=\"M0 0h24v24H0V0z\" fill=\"none\"/>\n",
              "    <path d=\"M18.56 5.44l.94 2.06.94-2.06 2.06-.94-2.06-.94-.94-2.06-.94 2.06-2.06.94zm-11 1L8.5 8.5l.94-2.06 2.06-.94-2.06-.94L8.5 2.5l-.94 2.06-2.06.94zm10 10l.94 2.06.94-2.06 2.06-.94-2.06-.94-.94-2.06-.94 2.06-2.06.94z\"/><path d=\"M17.41 7.96l-1.37-1.37c-.4-.4-.92-.59-1.43-.59-.52 0-1.04.2-1.43.59L10.3 9.45l-7.72 7.72c-.78.78-.78 2.05 0 2.83L4 21.41c.39.39.9.59 1.41.59.51 0 1.02-.2 1.41-.59l7.78-7.78 2.81-2.81c.8-.78.8-2.07 0-2.86zM5.41 20L4 18.59l7.72-7.72 1.47 1.35L5.41 20z\"/>\n",
              "  </svg>\n",
              "      </button>\n",
              "      \n",
              "  <style>\n",
              "    .colab-df-container {\n",
              "      display:flex;\n",
              "      flex-wrap:wrap;\n",
              "      gap: 12px;\n",
              "    }\n",
              "\n",
              "    .colab-df-convert {\n",
              "      background-color: #E8F0FE;\n",
              "      border: none;\n",
              "      border-radius: 50%;\n",
              "      cursor: pointer;\n",
              "      display: none;\n",
              "      fill: #1967D2;\n",
              "      height: 32px;\n",
              "      padding: 0 0 0 0;\n",
              "      width: 32px;\n",
              "    }\n",
              "\n",
              "    .colab-df-convert:hover {\n",
              "      background-color: #E2EBFA;\n",
              "      box-shadow: 0px 1px 2px rgba(60, 64, 67, 0.3), 0px 1px 3px 1px rgba(60, 64, 67, 0.15);\n",
              "      fill: #174EA6;\n",
              "    }\n",
              "\n",
              "    [theme=dark] .colab-df-convert {\n",
              "      background-color: #3B4455;\n",
              "      fill: #D2E3FC;\n",
              "    }\n",
              "\n",
              "    [theme=dark] .colab-df-convert:hover {\n",
              "      background-color: #434B5C;\n",
              "      box-shadow: 0px 1px 3px 1px rgba(0, 0, 0, 0.15);\n",
              "      filter: drop-shadow(0px 1px 2px rgba(0, 0, 0, 0.3));\n",
              "      fill: #FFFFFF;\n",
              "    }\n",
              "  </style>\n",
              "\n",
              "      <script>\n",
              "        const buttonEl =\n",
              "          document.querySelector('#df-f0a5dfc6-5501-4e65-8604-48ca5f0da7b0 button.colab-df-convert');\n",
              "        buttonEl.style.display =\n",
              "          google.colab.kernel.accessAllowed ? 'block' : 'none';\n",
              "\n",
              "        async function convertToInteractive(key) {\n",
              "          const element = document.querySelector('#df-f0a5dfc6-5501-4e65-8604-48ca5f0da7b0');\n",
              "          const dataTable =\n",
              "            await google.colab.kernel.invokeFunction('convertToInteractive',\n",
              "                                                     [key], {});\n",
              "          if (!dataTable) return;\n",
              "\n",
              "          const docLinkHtml = 'Like what you see? Visit the ' +\n",
              "            '<a target=\"_blank\" href=https://colab.research.google.com/notebooks/data_table.ipynb>data table notebook</a>'\n",
              "            + ' to learn more about interactive tables.';\n",
              "          element.innerHTML = '';\n",
              "          dataTable['output_type'] = 'display_data';\n",
              "          await google.colab.output.renderOutput(dataTable, element);\n",
              "          const docLink = document.createElement('div');\n",
              "          docLink.innerHTML = docLinkHtml;\n",
              "          element.appendChild(docLink);\n",
              "        }\n",
              "      </script>\n",
              "    </div>\n",
              "  </div>\n",
              "  "
            ]
          },
          "metadata": {},
          "execution_count": 203
        }
      ]
    },
    {
      "cell_type": "code",
      "source": [
        "df1.to_feather('dataset_test.bin')"
      ],
      "metadata": {
        "id": "u2x0PPBXL83s"
      },
      "execution_count": null,
      "outputs": []
    },
    {
      "cell_type": "code",
      "source": [
        "df2.head()"
      ],
      "metadata": {
        "colab": {
          "base_uri": "https://localhost:8080/",
          "height": 299
        },
        "id": "7EpZwrdtL-BA",
        "outputId": "b56e854e-7c93-48be-aea5-a3c9345c98e2"
      },
      "execution_count": null,
      "outputs": [
        {
          "output_type": "execute_result",
          "data": {
            "text/plain": [
              "          0         1         2         3         4         5         6  \\\n",
              "0  0.583574 -0.174893  0.055017 -0.272420 -0.068784 -0.494035  0.251055   \n",
              "1  0.186094 -0.284440  0.185264 -0.370694 -0.445358 -1.296115  0.003777   \n",
              "2  0.877007  0.045272  0.069192 -0.222789 -0.513989 -0.364534  0.410449   \n",
              "3  0.304989  0.166918  0.711443 -0.711869 -0.234388 -0.744625  0.272426   \n",
              "4  0.441128 -0.077035  0.927770 -0.512350 -0.042143 -0.602527  1.033495   \n",
              "\n",
              "          7         8         9  ...       291       292       293       294  \\\n",
              "0  0.019583  0.745247  0.056781  ... -0.191972  0.623288  0.022956 -0.277048   \n",
              "1  0.847566 -0.439493  0.288621  ...  0.149629 -0.068893 -0.318849 -0.143833   \n",
              "2 -0.308067 -0.311796  0.745197  ...  0.220155  0.008538  0.641884  0.462796   \n",
              "3  0.218979  0.098876 -0.070355  ...  0.687372  0.721725 -0.379020  0.252627   \n",
              "4  0.260415 -0.417275 -0.259109  ...  0.257504  0.237609 -0.450306  0.080146   \n",
              "\n",
              "        295       296       297       298       299  score  \n",
              "0 -0.314167 -0.188283 -0.301536 -0.200100 -0.084804     -2  \n",
              "1 -0.168350 -0.120179  0.043932 -0.134904 -0.749036     -2  \n",
              "2  0.540101 -0.186064 -0.149698  0.008279  0.164098     -2  \n",
              "3 -0.403859  0.252798 -0.340111  0.014335  0.057585     -2  \n",
              "4  0.026328  0.592495 -0.572834 -0.033261 -0.747583     -2  \n",
              "\n",
              "[5 rows x 301 columns]"
            ],
            "text/html": [
              "\n",
              "  <div id=\"df-1001c826-d20c-43b9-925c-1a978a5585c0\">\n",
              "    <div class=\"colab-df-container\">\n",
              "      <div>\n",
              "<style scoped>\n",
              "    .dataframe tbody tr th:only-of-type {\n",
              "        vertical-align: middle;\n",
              "    }\n",
              "\n",
              "    .dataframe tbody tr th {\n",
              "        vertical-align: top;\n",
              "    }\n",
              "\n",
              "    .dataframe thead th {\n",
              "        text-align: right;\n",
              "    }\n",
              "</style>\n",
              "<table border=\"1\" class=\"dataframe\">\n",
              "  <thead>\n",
              "    <tr style=\"text-align: right;\">\n",
              "      <th></th>\n",
              "      <th>0</th>\n",
              "      <th>1</th>\n",
              "      <th>2</th>\n",
              "      <th>3</th>\n",
              "      <th>4</th>\n",
              "      <th>5</th>\n",
              "      <th>6</th>\n",
              "      <th>7</th>\n",
              "      <th>8</th>\n",
              "      <th>9</th>\n",
              "      <th>...</th>\n",
              "      <th>291</th>\n",
              "      <th>292</th>\n",
              "      <th>293</th>\n",
              "      <th>294</th>\n",
              "      <th>295</th>\n",
              "      <th>296</th>\n",
              "      <th>297</th>\n",
              "      <th>298</th>\n",
              "      <th>299</th>\n",
              "      <th>score</th>\n",
              "    </tr>\n",
              "  </thead>\n",
              "  <tbody>\n",
              "    <tr>\n",
              "      <th>0</th>\n",
              "      <td>0.583574</td>\n",
              "      <td>-0.174893</td>\n",
              "      <td>0.055017</td>\n",
              "      <td>-0.272420</td>\n",
              "      <td>-0.068784</td>\n",
              "      <td>-0.494035</td>\n",
              "      <td>0.251055</td>\n",
              "      <td>0.019583</td>\n",
              "      <td>0.745247</td>\n",
              "      <td>0.056781</td>\n",
              "      <td>...</td>\n",
              "      <td>-0.191972</td>\n",
              "      <td>0.623288</td>\n",
              "      <td>0.022956</td>\n",
              "      <td>-0.277048</td>\n",
              "      <td>-0.314167</td>\n",
              "      <td>-0.188283</td>\n",
              "      <td>-0.301536</td>\n",
              "      <td>-0.200100</td>\n",
              "      <td>-0.084804</td>\n",
              "      <td>-2</td>\n",
              "    </tr>\n",
              "    <tr>\n",
              "      <th>1</th>\n",
              "      <td>0.186094</td>\n",
              "      <td>-0.284440</td>\n",
              "      <td>0.185264</td>\n",
              "      <td>-0.370694</td>\n",
              "      <td>-0.445358</td>\n",
              "      <td>-1.296115</td>\n",
              "      <td>0.003777</td>\n",
              "      <td>0.847566</td>\n",
              "      <td>-0.439493</td>\n",
              "      <td>0.288621</td>\n",
              "      <td>...</td>\n",
              "      <td>0.149629</td>\n",
              "      <td>-0.068893</td>\n",
              "      <td>-0.318849</td>\n",
              "      <td>-0.143833</td>\n",
              "      <td>-0.168350</td>\n",
              "      <td>-0.120179</td>\n",
              "      <td>0.043932</td>\n",
              "      <td>-0.134904</td>\n",
              "      <td>-0.749036</td>\n",
              "      <td>-2</td>\n",
              "    </tr>\n",
              "    <tr>\n",
              "      <th>2</th>\n",
              "      <td>0.877007</td>\n",
              "      <td>0.045272</td>\n",
              "      <td>0.069192</td>\n",
              "      <td>-0.222789</td>\n",
              "      <td>-0.513989</td>\n",
              "      <td>-0.364534</td>\n",
              "      <td>0.410449</td>\n",
              "      <td>-0.308067</td>\n",
              "      <td>-0.311796</td>\n",
              "      <td>0.745197</td>\n",
              "      <td>...</td>\n",
              "      <td>0.220155</td>\n",
              "      <td>0.008538</td>\n",
              "      <td>0.641884</td>\n",
              "      <td>0.462796</td>\n",
              "      <td>0.540101</td>\n",
              "      <td>-0.186064</td>\n",
              "      <td>-0.149698</td>\n",
              "      <td>0.008279</td>\n",
              "      <td>0.164098</td>\n",
              "      <td>-2</td>\n",
              "    </tr>\n",
              "    <tr>\n",
              "      <th>3</th>\n",
              "      <td>0.304989</td>\n",
              "      <td>0.166918</td>\n",
              "      <td>0.711443</td>\n",
              "      <td>-0.711869</td>\n",
              "      <td>-0.234388</td>\n",
              "      <td>-0.744625</td>\n",
              "      <td>0.272426</td>\n",
              "      <td>0.218979</td>\n",
              "      <td>0.098876</td>\n",
              "      <td>-0.070355</td>\n",
              "      <td>...</td>\n",
              "      <td>0.687372</td>\n",
              "      <td>0.721725</td>\n",
              "      <td>-0.379020</td>\n",
              "      <td>0.252627</td>\n",
              "      <td>-0.403859</td>\n",
              "      <td>0.252798</td>\n",
              "      <td>-0.340111</td>\n",
              "      <td>0.014335</td>\n",
              "      <td>0.057585</td>\n",
              "      <td>-2</td>\n",
              "    </tr>\n",
              "    <tr>\n",
              "      <th>4</th>\n",
              "      <td>0.441128</td>\n",
              "      <td>-0.077035</td>\n",
              "      <td>0.927770</td>\n",
              "      <td>-0.512350</td>\n",
              "      <td>-0.042143</td>\n",
              "      <td>-0.602527</td>\n",
              "      <td>1.033495</td>\n",
              "      <td>0.260415</td>\n",
              "      <td>-0.417275</td>\n",
              "      <td>-0.259109</td>\n",
              "      <td>...</td>\n",
              "      <td>0.257504</td>\n",
              "      <td>0.237609</td>\n",
              "      <td>-0.450306</td>\n",
              "      <td>0.080146</td>\n",
              "      <td>0.026328</td>\n",
              "      <td>0.592495</td>\n",
              "      <td>-0.572834</td>\n",
              "      <td>-0.033261</td>\n",
              "      <td>-0.747583</td>\n",
              "      <td>-2</td>\n",
              "    </tr>\n",
              "  </tbody>\n",
              "</table>\n",
              "<p>5 rows × 301 columns</p>\n",
              "</div>\n",
              "      <button class=\"colab-df-convert\" onclick=\"convertToInteractive('df-1001c826-d20c-43b9-925c-1a978a5585c0')\"\n",
              "              title=\"Convert this dataframe to an interactive table.\"\n",
              "              style=\"display:none;\">\n",
              "        \n",
              "  <svg xmlns=\"http://www.w3.org/2000/svg\" height=\"24px\"viewBox=\"0 0 24 24\"\n",
              "       width=\"24px\">\n",
              "    <path d=\"M0 0h24v24H0V0z\" fill=\"none\"/>\n",
              "    <path d=\"M18.56 5.44l.94 2.06.94-2.06 2.06-.94-2.06-.94-.94-2.06-.94 2.06-2.06.94zm-11 1L8.5 8.5l.94-2.06 2.06-.94-2.06-.94L8.5 2.5l-.94 2.06-2.06.94zm10 10l.94 2.06.94-2.06 2.06-.94-2.06-.94-.94-2.06-.94 2.06-2.06.94z\"/><path d=\"M17.41 7.96l-1.37-1.37c-.4-.4-.92-.59-1.43-.59-.52 0-1.04.2-1.43.59L10.3 9.45l-7.72 7.72c-.78.78-.78 2.05 0 2.83L4 21.41c.39.39.9.59 1.41.59.51 0 1.02-.2 1.41-.59l7.78-7.78 2.81-2.81c.8-.78.8-2.07 0-2.86zM5.41 20L4 18.59l7.72-7.72 1.47 1.35L5.41 20z\"/>\n",
              "  </svg>\n",
              "      </button>\n",
              "      \n",
              "  <style>\n",
              "    .colab-df-container {\n",
              "      display:flex;\n",
              "      flex-wrap:wrap;\n",
              "      gap: 12px;\n",
              "    }\n",
              "\n",
              "    .colab-df-convert {\n",
              "      background-color: #E8F0FE;\n",
              "      border: none;\n",
              "      border-radius: 50%;\n",
              "      cursor: pointer;\n",
              "      display: none;\n",
              "      fill: #1967D2;\n",
              "      height: 32px;\n",
              "      padding: 0 0 0 0;\n",
              "      width: 32px;\n",
              "    }\n",
              "\n",
              "    .colab-df-convert:hover {\n",
              "      background-color: #E2EBFA;\n",
              "      box-shadow: 0px 1px 2px rgba(60, 64, 67, 0.3), 0px 1px 3px 1px rgba(60, 64, 67, 0.15);\n",
              "      fill: #174EA6;\n",
              "    }\n",
              "\n",
              "    [theme=dark] .colab-df-convert {\n",
              "      background-color: #3B4455;\n",
              "      fill: #D2E3FC;\n",
              "    }\n",
              "\n",
              "    [theme=dark] .colab-df-convert:hover {\n",
              "      background-color: #434B5C;\n",
              "      box-shadow: 0px 1px 3px 1px rgba(0, 0, 0, 0.15);\n",
              "      filter: drop-shadow(0px 1px 2px rgba(0, 0, 0, 0.3));\n",
              "      fill: #FFFFFF;\n",
              "    }\n",
              "  </style>\n",
              "\n",
              "      <script>\n",
              "        const buttonEl =\n",
              "          document.querySelector('#df-1001c826-d20c-43b9-925c-1a978a5585c0 button.colab-df-convert');\n",
              "        buttonEl.style.display =\n",
              "          google.colab.kernel.accessAllowed ? 'block' : 'none';\n",
              "\n",
              "        async function convertToInteractive(key) {\n",
              "          const element = document.querySelector('#df-1001c826-d20c-43b9-925c-1a978a5585c0');\n",
              "          const dataTable =\n",
              "            await google.colab.kernel.invokeFunction('convertToInteractive',\n",
              "                                                     [key], {});\n",
              "          if (!dataTable) return;\n",
              "\n",
              "          const docLinkHtml = 'Like what you see? Visit the ' +\n",
              "            '<a target=\"_blank\" href=https://colab.research.google.com/notebooks/data_table.ipynb>data table notebook</a>'\n",
              "            + ' to learn more about interactive tables.';\n",
              "          element.innerHTML = '';\n",
              "          dataTable['output_type'] = 'display_data';\n",
              "          await google.colab.output.renderOutput(dataTable, element);\n",
              "          const docLink = document.createElement('div');\n",
              "          docLink.innerHTML = docLinkHtml;\n",
              "          element.appendChild(docLink);\n",
              "        }\n",
              "      </script>\n",
              "    </div>\n",
              "  </div>\n",
              "  "
            ]
          },
          "metadata": {},
          "execution_count": 116
        }
      ]
    },
    {
      "cell_type": "code",
      "source": [
        "del df2\n",
        "gc.collect()"
      ],
      "metadata": {
        "colab": {
          "base_uri": "https://localhost:8080/"
        },
        "id": "z0gXs9FYnokr",
        "outputId": "2efdd7de-1ab6-459c-cbfd-f256d7d3a0ab"
      },
      "execution_count": null,
      "outputs": [
        {
          "output_type": "execute_result",
          "data": {
            "text/plain": [
              "524"
            ]
          },
          "metadata": {},
          "execution_count": 123
        }
      ]
    },
    {
      "cell_type": "markdown",
      "source": [
        "# Запускаем модельки"
      ],
      "metadata": {
        "id": "Cq9OwETGMZ16"
      }
    },
    {
      "cell_type": "code",
      "source": [
        "from sklearn.metrics import accuracy_score, f1_score, precision_score, recall_score, classification_report, confusion_matrix\n",
        "from sklearn.neighbors import KNeighborsClassifier\n",
        "from sklearn.model_selection import train_test_split\n",
        "from sklearn import metrics\n",
        "from sklearn.model_selection import ShuffleSplit\n",
        "from sklearn.model_selection import GridSearchCV\n",
        "import gc"
      ],
      "metadata": {
        "id": "q_kvhKlzMrmS"
      },
      "execution_count": null,
      "outputs": []
    },
    {
      "cell_type": "code",
      "source": [
        "df_train = pd.read_feather('dataset_train.bin')"
      ],
      "metadata": {
        "id": "ECR_XwbxTRE0"
      },
      "execution_count": null,
      "outputs": []
    },
    {
      "cell_type": "code",
      "source": [
        "df_test = pd.read_feather('dataset_test.bin')"
      ],
      "metadata": {
        "id": "DBpt5RJennVH"
      },
      "execution_count": null,
      "outputs": []
    },
    {
      "cell_type": "code",
      "source": [
        "y_train = df_train['score'].to_numpy()\n",
        "df_train.drop('score', inplace=True, axis=1)\n",
        "X_train = df_train.to_numpy()"
      ],
      "metadata": {
        "id": "PvHOZsQzMbJj"
      },
      "execution_count": null,
      "outputs": []
    },
    {
      "cell_type": "code",
      "source": [
        "y_test = df_test['score'].to_numpy()\n",
        "df_test.drop('score', inplace=True, axis=1)\n",
        "X_test = df_test.to_numpy()"
      ],
      "metadata": {
        "id": "goG2U-P3oB3k"
      },
      "execution_count": null,
      "outputs": []
    },
    {
      "cell_type": "code",
      "source": [
        "del df_train, df_test\n",
        "gc.collect()"
      ],
      "metadata": {
        "colab": {
          "base_uri": "https://localhost:8080/"
        },
        "id": "fYeEsfodMe72",
        "outputId": "c8818cdd-1d77-4550-c36e-98d135b280ff"
      },
      "execution_count": null,
      "outputs": [
        {
          "output_type": "execute_result",
          "data": {
            "text/plain": [
              "26341"
            ]
          },
          "metadata": {},
          "execution_count": 185
        }
      ]
    },
    {
      "cell_type": "markdown",
      "source": [
        "## KNN"
      ],
      "metadata": {
        "id": "Pjgp5SjiOGCv"
      }
    },
    {
      "cell_type": "code",
      "source": [
        "knn = KNeighborsClassifier(n_neighbors=1)"
      ],
      "metadata": {
        "id": "gCFs7AWoNCMr"
      },
      "execution_count": null,
      "outputs": []
    },
    {
      "cell_type": "code",
      "source": [
        "knn.fit(X_train, y_train)"
      ],
      "metadata": {
        "colab": {
          "base_uri": "https://localhost:8080/",
          "height": 74
        },
        "id": "33IqFvmPNLvc",
        "outputId": "6c8c62ca-3e9f-497a-8f8e-423435acf8a5"
      },
      "execution_count": null,
      "outputs": [
        {
          "output_type": "execute_result",
          "data": {
            "text/plain": [
              "KNeighborsClassifier(n_neighbors=1)"
            ],
            "text/html": [
              "<style>#sk-container-id-11 {color: black;background-color: white;}#sk-container-id-11 pre{padding: 0;}#sk-container-id-11 div.sk-toggleable {background-color: white;}#sk-container-id-11 label.sk-toggleable__label {cursor: pointer;display: block;width: 100%;margin-bottom: 0;padding: 0.3em;box-sizing: border-box;text-align: center;}#sk-container-id-11 label.sk-toggleable__label-arrow:before {content: \"▸\";float: left;margin-right: 0.25em;color: #696969;}#sk-container-id-11 label.sk-toggleable__label-arrow:hover:before {color: black;}#sk-container-id-11 div.sk-estimator:hover label.sk-toggleable__label-arrow:before {color: black;}#sk-container-id-11 div.sk-toggleable__content {max-height: 0;max-width: 0;overflow: hidden;text-align: left;background-color: #f0f8ff;}#sk-container-id-11 div.sk-toggleable__content pre {margin: 0.2em;color: black;border-radius: 0.25em;background-color: #f0f8ff;}#sk-container-id-11 input.sk-toggleable__control:checked~div.sk-toggleable__content {max-height: 200px;max-width: 100%;overflow: auto;}#sk-container-id-11 input.sk-toggleable__control:checked~label.sk-toggleable__label-arrow:before {content: \"▾\";}#sk-container-id-11 div.sk-estimator input.sk-toggleable__control:checked~label.sk-toggleable__label {background-color: #d4ebff;}#sk-container-id-11 div.sk-label input.sk-toggleable__control:checked~label.sk-toggleable__label {background-color: #d4ebff;}#sk-container-id-11 input.sk-hidden--visually {border: 0;clip: rect(1px 1px 1px 1px);clip: rect(1px, 1px, 1px, 1px);height: 1px;margin: -1px;overflow: hidden;padding: 0;position: absolute;width: 1px;}#sk-container-id-11 div.sk-estimator {font-family: monospace;background-color: #f0f8ff;border: 1px dotted black;border-radius: 0.25em;box-sizing: border-box;margin-bottom: 0.5em;}#sk-container-id-11 div.sk-estimator:hover {background-color: #d4ebff;}#sk-container-id-11 div.sk-parallel-item::after {content: \"\";width: 100%;border-bottom: 1px solid gray;flex-grow: 1;}#sk-container-id-11 div.sk-label:hover label.sk-toggleable__label {background-color: #d4ebff;}#sk-container-id-11 div.sk-serial::before {content: \"\";position: absolute;border-left: 1px solid gray;box-sizing: border-box;top: 0;bottom: 0;left: 50%;z-index: 0;}#sk-container-id-11 div.sk-serial {display: flex;flex-direction: column;align-items: center;background-color: white;padding-right: 0.2em;padding-left: 0.2em;position: relative;}#sk-container-id-11 div.sk-item {position: relative;z-index: 1;}#sk-container-id-11 div.sk-parallel {display: flex;align-items: stretch;justify-content: center;background-color: white;position: relative;}#sk-container-id-11 div.sk-item::before, #sk-container-id-11 div.sk-parallel-item::before {content: \"\";position: absolute;border-left: 1px solid gray;box-sizing: border-box;top: 0;bottom: 0;left: 50%;z-index: -1;}#sk-container-id-11 div.sk-parallel-item {display: flex;flex-direction: column;z-index: 1;position: relative;background-color: white;}#sk-container-id-11 div.sk-parallel-item:first-child::after {align-self: flex-end;width: 50%;}#sk-container-id-11 div.sk-parallel-item:last-child::after {align-self: flex-start;width: 50%;}#sk-container-id-11 div.sk-parallel-item:only-child::after {width: 0;}#sk-container-id-11 div.sk-dashed-wrapped {border: 1px dashed gray;margin: 0 0.4em 0.5em 0.4em;box-sizing: border-box;padding-bottom: 0.4em;background-color: white;}#sk-container-id-11 div.sk-label label {font-family: monospace;font-weight: bold;display: inline-block;line-height: 1.2em;}#sk-container-id-11 div.sk-label-container {text-align: center;}#sk-container-id-11 div.sk-container {/* jupyter's `normalize.less` sets `[hidden] { display: none; }` but bootstrap.min.css set `[hidden] { display: none !important; }` so we also need the `!important` here to be able to override the default hidden behavior on the sphinx rendered scikit-learn.org. See: https://github.com/scikit-learn/scikit-learn/issues/21755 */display: inline-block !important;position: relative;}#sk-container-id-11 div.sk-text-repr-fallback {display: none;}</style><div id=\"sk-container-id-11\" class=\"sk-top-container\"><div class=\"sk-text-repr-fallback\"><pre>KNeighborsClassifier(n_neighbors=1)</pre><b>In a Jupyter environment, please rerun this cell to show the HTML representation or trust the notebook. <br />On GitHub, the HTML representation is unable to render, please try loading this page with nbviewer.org.</b></div><div class=\"sk-container\" hidden><div class=\"sk-item\"><div class=\"sk-estimator sk-toggleable\"><input class=\"sk-toggleable__control sk-hidden--visually\" id=\"sk-estimator-id-11\" type=\"checkbox\" checked><label for=\"sk-estimator-id-11\" class=\"sk-toggleable__label sk-toggleable__label-arrow\">KNeighborsClassifier</label><div class=\"sk-toggleable__content\"><pre>KNeighborsClassifier(n_neighbors=1)</pre></div></div></div></div></div>"
            ]
          },
          "metadata": {},
          "execution_count": 589
        }
      ]
    },
    {
      "cell_type": "code",
      "source": [
        "y_pred = knn.predict(X_test)"
      ],
      "metadata": {
        "id": "9ilVE89ZNNV1"
      },
      "execution_count": null,
      "outputs": []
    },
    {
      "cell_type": "code",
      "source": [
        "print(metrics.classification_report(y_test, y_pred))"
      ],
      "metadata": {
        "colab": {
          "base_uri": "https://localhost:8080/"
        },
        "id": "rS9_ezU9NO3j",
        "outputId": "c8f136c3-f016-491e-baed-02378dbb4248"
      },
      "execution_count": null,
      "outputs": [
        {
          "output_type": "stream",
          "name": "stdout",
          "text": [
            "              precision    recall  f1-score   support\n",
            "\n",
            "          -2       0.46      0.63      0.53       473\n",
            "          -1       0.65      0.41      0.50      2746\n",
            "           0       0.75      0.47      0.57      4180\n",
            "           1       0.14      0.78      0.24       523\n",
            "           2       0.50      0.69      0.58       105\n",
            "\n",
            "    accuracy                           0.48      8027\n",
            "   macro avg       0.50      0.59      0.48      8027\n",
            "weighted avg       0.65      0.48      0.52      8027\n",
            "\n"
          ]
        }
      ]
    },
    {
      "cell_type": "code",
      "source": [
        "del knn\n",
        "gc.collect()"
      ],
      "metadata": {
        "colab": {
          "base_uri": "https://localhost:8080/"
        },
        "id": "Zm7BmTjZNQR7",
        "outputId": "6a9f47e5-c076-4c2c-9d9e-0b5312fa5c8e"
      },
      "execution_count": null,
      "outputs": [
        {
          "output_type": "execute_result",
          "data": {
            "text/plain": [
              "0"
            ]
          },
          "metadata": {},
          "execution_count": 275
        }
      ]
    },
    {
      "cell_type": "markdown",
      "source": [
        "## SVM"
      ],
      "metadata": {
        "id": "XI1NEeIgOSXM"
      }
    },
    {
      "cell_type": "code",
      "source": [
        "from sklearn import svm, datasets\n",
        "svc = svm.SVC(gamma=\"scale\", kernel='poly', C=10, degree=5)\n",
        "svc.fit(X_train, y_train)\n",
        "y_pred = svc.predict(X_test)\n",
        "print(metrics.classification_report(y_test, y_pred))"
      ],
      "metadata": {
        "colab": {
          "base_uri": "https://localhost:8080/"
        },
        "id": "g5WTxDIik7_D",
        "outputId": "26dbcdab-47ce-4f2c-d12d-e8dfb92168fa"
      },
      "execution_count": null,
      "outputs": [
        {
          "output_type": "stream",
          "name": "stdout",
          "text": [
            "              precision    recall  f1-score   support\n",
            "\n",
            "          -2       0.50      0.66      0.57       473\n",
            "          -1       0.63      0.52      0.57      2746\n",
            "           0       0.71      0.73      0.72      4180\n",
            "           1       0.52      0.67      0.58       523\n",
            "           2       0.47      0.76      0.58       105\n",
            "\n",
            "    accuracy                           0.65      8027\n",
            "   macro avg       0.56      0.67      0.60      8027\n",
            "weighted avg       0.65      0.65      0.65      8027\n",
            "\n"
          ]
        }
      ]
    },
    {
      "cell_type": "code",
      "source": [
        "svc = svm.SVC(gamma=\"scale\", kernel='poly', C=10, degree=5)"
      ],
      "metadata": {
        "id": "p4kdU-5LnEz3"
      },
      "execution_count": null,
      "outputs": []
    },
    {
      "cell_type": "markdown",
      "source": [
        "## Catboost"
      ],
      "metadata": {
        "id": "jDkqRkfITk_2"
      }
    },
    {
      "cell_type": "code",
      "source": [
        "from catboost import CatBoostClassifier"
      ],
      "metadata": {
        "id": "MA62Kv-DPZb_"
      },
      "execution_count": null,
      "outputs": []
    },
    {
      "cell_type": "code",
      "source": [
        "model = CatBoostClassifier(iterations=2000,\n",
        "                           learning_rate=0.05,\n",
        "                           depth=7,\n",
        "                           loss_function='MultiClass',\n",
        "                          #  verbose=True,\n",
        "                           task_type=\"GPU\",\n",
        "                           eval_metric='TotalF1',\n",
        "                           grow_policy='Depthwise')"
      ],
      "metadata": {
        "id": "r9YCHOs_QOEZ"
      },
      "execution_count": null,
      "outputs": []
    },
    {
      "cell_type": "code",
      "source": [
        "model.fit(X_train, y_train, eval_set=(X_test, y_test), verbose=False)"
      ],
      "metadata": {
        "colab": {
          "base_uri": "https://localhost:8080/"
        },
        "id": "hkjWKthdUPms",
        "outputId": "ff94a427-0c62-4275-94e7-d35fff09564b"
      },
      "execution_count": null,
      "outputs": [
        {
          "output_type": "execute_result",
          "data": {
            "text/plain": [
              "<catboost.core.CatBoostClassifier at 0x7fe3561cbca0>"
            ]
          },
          "metadata": {},
          "execution_count": 624
        }
      ]
    },
    {
      "cell_type": "code",
      "source": [
        "y_pred = model.predict(X_test)\n",
        "print(metrics.classification_report(y_test, y_pred))"
      ],
      "metadata": {
        "colab": {
          "base_uri": "https://localhost:8080/"
        },
        "id": "TivH5FBbUZMy",
        "outputId": "bd299561-4958-4fe0-daef-f349c5f6eb3f"
      },
      "execution_count": null,
      "outputs": [
        {
          "output_type": "stream",
          "name": "stdout",
          "text": [
            "              precision    recall  f1-score   support\n",
            "\n",
            "          -2       0.49      0.62      0.55       473\n",
            "          -1       0.57      0.65      0.61      2746\n",
            "           0       0.76      0.62      0.68      4180\n",
            "           1       0.46      0.65      0.54       523\n",
            "           2       0.53      0.67      0.59       105\n",
            "\n",
            "    accuracy                           0.63      8027\n",
            "   macro avg       0.56      0.64      0.59      8027\n",
            "weighted avg       0.66      0.63      0.64      8027\n",
            "\n"
          ]
        }
      ]
    },
    {
      "cell_type": "code",
      "source": [
        "y_pred = model.predict(X_test)\n",
        "print(metrics.classification_report(y_test, y_pred))"
      ],
      "metadata": {
        "colab": {
          "base_uri": "https://localhost:8080/"
        },
        "id": "hwh77mnQUzqm",
        "outputId": "7de2e90c-4390-4c1b-9a8c-690460b5beba"
      },
      "execution_count": null,
      "outputs": [
        {
          "output_type": "stream",
          "name": "stdout",
          "text": [
            "              precision    recall  f1-score   support\n",
            "\n",
            "          -2       0.43      0.63      0.51       473\n",
            "          -1       0.58      0.63      0.60      2746\n",
            "           0       0.76      0.61      0.68      4180\n",
            "           1       0.41      0.64      0.50       523\n",
            "           2       0.49      0.71      0.58       105\n",
            "\n",
            "    accuracy                           0.62      8027\n",
            "   macro avg       0.53      0.64      0.57      8027\n",
            "weighted avg       0.65      0.62      0.63      8027\n",
            "\n"
          ]
        }
      ]
    },
    {
      "cell_type": "markdown",
      "source": [
        "## Xgboost"
      ],
      "metadata": {
        "id": "AzZyR797gxBf"
      }
    },
    {
      "cell_type": "code",
      "source": [
        "y_train +=2"
      ],
      "metadata": {
        "id": "6vQmZl4JnZzn"
      },
      "execution_count": null,
      "outputs": []
    },
    {
      "cell_type": "code",
      "source": [
        "import xgboost as xgb\n",
        "model = xgb.XGBRegressor(colsample_bytree = 0.3, learning_rate = 0.01,\n",
        "                max_depth = 7, alpha = 10, n_estimators = 100, predictor='gpu_predictor', objective='multi:softprob', num_class=5)"
      ],
      "metadata": {
        "id": "v1DmBA6YoOi7"
      },
      "execution_count": null,
      "outputs": []
    },
    {
      "cell_type": "code",
      "source": [
        "model.fit(X_train, y_train)"
      ],
      "metadata": {
        "colab": {
          "base_uri": "https://localhost:8080/",
          "height": 230
        },
        "id": "2aJnl7WTg98V",
        "outputId": "f30c6a40-c8bf-4719-ef7c-fd6cef31b764"
      },
      "execution_count": null,
      "outputs": [
        {
          "output_type": "execute_result",
          "data": {
            "text/plain": [
              "XGBRegressor(alpha=10, base_score=None, booster=None, callbacks=None,\n",
              "             colsample_bylevel=None, colsample_bynode=None,\n",
              "             colsample_bytree=0.3, early_stopping_rounds=None,\n",
              "             enable_categorical=False, eval_metric=None, feature_types=None,\n",
              "             gamma=None, gpu_id=None, grow_policy=None, importance_type=None,\n",
              "             interaction_constraints=None, learning_rate=0.01, max_bin=None,\n",
              "             max_cat_threshold=None, max_cat_to_onehot=None,\n",
              "             max_delta_step=None, max_depth=7, max_leaves=None,\n",
              "             min_child_weight=None, missing=nan, monotone_constraints=None,\n",
              "             n_estimators=100, n_jobs=None, num_class=5, num_parallel_tree=None, ...)"
            ],
            "text/html": [
              "<style>#sk-container-id-7 {color: black;background-color: white;}#sk-container-id-7 pre{padding: 0;}#sk-container-id-7 div.sk-toggleable {background-color: white;}#sk-container-id-7 label.sk-toggleable__label {cursor: pointer;display: block;width: 100%;margin-bottom: 0;padding: 0.3em;box-sizing: border-box;text-align: center;}#sk-container-id-7 label.sk-toggleable__label-arrow:before {content: \"▸\";float: left;margin-right: 0.25em;color: #696969;}#sk-container-id-7 label.sk-toggleable__label-arrow:hover:before {color: black;}#sk-container-id-7 div.sk-estimator:hover label.sk-toggleable__label-arrow:before {color: black;}#sk-container-id-7 div.sk-toggleable__content {max-height: 0;max-width: 0;overflow: hidden;text-align: left;background-color: #f0f8ff;}#sk-container-id-7 div.sk-toggleable__content pre {margin: 0.2em;color: black;border-radius: 0.25em;background-color: #f0f8ff;}#sk-container-id-7 input.sk-toggleable__control:checked~div.sk-toggleable__content {max-height: 200px;max-width: 100%;overflow: auto;}#sk-container-id-7 input.sk-toggleable__control:checked~label.sk-toggleable__label-arrow:before {content: \"▾\";}#sk-container-id-7 div.sk-estimator input.sk-toggleable__control:checked~label.sk-toggleable__label {background-color: #d4ebff;}#sk-container-id-7 div.sk-label input.sk-toggleable__control:checked~label.sk-toggleable__label {background-color: #d4ebff;}#sk-container-id-7 input.sk-hidden--visually {border: 0;clip: rect(1px 1px 1px 1px);clip: rect(1px, 1px, 1px, 1px);height: 1px;margin: -1px;overflow: hidden;padding: 0;position: absolute;width: 1px;}#sk-container-id-7 div.sk-estimator {font-family: monospace;background-color: #f0f8ff;border: 1px dotted black;border-radius: 0.25em;box-sizing: border-box;margin-bottom: 0.5em;}#sk-container-id-7 div.sk-estimator:hover {background-color: #d4ebff;}#sk-container-id-7 div.sk-parallel-item::after {content: \"\";width: 100%;border-bottom: 1px solid gray;flex-grow: 1;}#sk-container-id-7 div.sk-label:hover label.sk-toggleable__label {background-color: #d4ebff;}#sk-container-id-7 div.sk-serial::before {content: \"\";position: absolute;border-left: 1px solid gray;box-sizing: border-box;top: 0;bottom: 0;left: 50%;z-index: 0;}#sk-container-id-7 div.sk-serial {display: flex;flex-direction: column;align-items: center;background-color: white;padding-right: 0.2em;padding-left: 0.2em;position: relative;}#sk-container-id-7 div.sk-item {position: relative;z-index: 1;}#sk-container-id-7 div.sk-parallel {display: flex;align-items: stretch;justify-content: center;background-color: white;position: relative;}#sk-container-id-7 div.sk-item::before, #sk-container-id-7 div.sk-parallel-item::before {content: \"\";position: absolute;border-left: 1px solid gray;box-sizing: border-box;top: 0;bottom: 0;left: 50%;z-index: -1;}#sk-container-id-7 div.sk-parallel-item {display: flex;flex-direction: column;z-index: 1;position: relative;background-color: white;}#sk-container-id-7 div.sk-parallel-item:first-child::after {align-self: flex-end;width: 50%;}#sk-container-id-7 div.sk-parallel-item:last-child::after {align-self: flex-start;width: 50%;}#sk-container-id-7 div.sk-parallel-item:only-child::after {width: 0;}#sk-container-id-7 div.sk-dashed-wrapped {border: 1px dashed gray;margin: 0 0.4em 0.5em 0.4em;box-sizing: border-box;padding-bottom: 0.4em;background-color: white;}#sk-container-id-7 div.sk-label label {font-family: monospace;font-weight: bold;display: inline-block;line-height: 1.2em;}#sk-container-id-7 div.sk-label-container {text-align: center;}#sk-container-id-7 div.sk-container {/* jupyter's `normalize.less` sets `[hidden] { display: none; }` but bootstrap.min.css set `[hidden] { display: none !important; }` so we also need the `!important` here to be able to override the default hidden behavior on the sphinx rendered scikit-learn.org. See: https://github.com/scikit-learn/scikit-learn/issues/21755 */display: inline-block !important;position: relative;}#sk-container-id-7 div.sk-text-repr-fallback {display: none;}</style><div id=\"sk-container-id-7\" class=\"sk-top-container\"><div class=\"sk-text-repr-fallback\"><pre>XGBRegressor(alpha=10, base_score=None, booster=None, callbacks=None,\n",
              "             colsample_bylevel=None, colsample_bynode=None,\n",
              "             colsample_bytree=0.3, early_stopping_rounds=None,\n",
              "             enable_categorical=False, eval_metric=None, feature_types=None,\n",
              "             gamma=None, gpu_id=None, grow_policy=None, importance_type=None,\n",
              "             interaction_constraints=None, learning_rate=0.01, max_bin=None,\n",
              "             max_cat_threshold=None, max_cat_to_onehot=None,\n",
              "             max_delta_step=None, max_depth=7, max_leaves=None,\n",
              "             min_child_weight=None, missing=nan, monotone_constraints=None,\n",
              "             n_estimators=100, n_jobs=None, num_class=5, num_parallel_tree=None, ...)</pre><b>In a Jupyter environment, please rerun this cell to show the HTML representation or trust the notebook. <br />On GitHub, the HTML representation is unable to render, please try loading this page with nbviewer.org.</b></div><div class=\"sk-container\" hidden><div class=\"sk-item\"><div class=\"sk-estimator sk-toggleable\"><input class=\"sk-toggleable__control sk-hidden--visually\" id=\"sk-estimator-id-7\" type=\"checkbox\" checked><label for=\"sk-estimator-id-7\" class=\"sk-toggleable__label sk-toggleable__label-arrow\">XGBRegressor</label><div class=\"sk-toggleable__content\"><pre>XGBRegressor(alpha=10, base_score=None, booster=None, callbacks=None,\n",
              "             colsample_bylevel=None, colsample_bynode=None,\n",
              "             colsample_bytree=0.3, early_stopping_rounds=None,\n",
              "             enable_categorical=False, eval_metric=None, feature_types=None,\n",
              "             gamma=None, gpu_id=None, grow_policy=None, importance_type=None,\n",
              "             interaction_constraints=None, learning_rate=0.01, max_bin=None,\n",
              "             max_cat_threshold=None, max_cat_to_onehot=None,\n",
              "             max_delta_step=None, max_depth=7, max_leaves=None,\n",
              "             min_child_weight=None, missing=nan, monotone_constraints=None,\n",
              "             n_estimators=100, n_jobs=None, num_class=5, num_parallel_tree=None, ...)</pre></div></div></div></div></div>"
            ]
          },
          "metadata": {},
          "execution_count": 177
        }
      ]
    },
    {
      "cell_type": "code",
      "source": [
        "y_pred = model.predict(X_test)\n",
        "y_pred = np.argmax(y_pred, axis=1)\n",
        "y_pred -= 2"
      ],
      "metadata": {
        "id": "7OLdVvrwg_gN"
      },
      "execution_count": null,
      "outputs": []
    },
    {
      "cell_type": "code",
      "source": [
        "print(metrics.classification_report(y_test, y_pred))"
      ],
      "metadata": {
        "colab": {
          "base_uri": "https://localhost:8080/"
        },
        "id": "IUW6pqTxm8cF",
        "outputId": "68447378-55a0-4d3e-f06c-5fa1e6733c05"
      },
      "execution_count": null,
      "outputs": [
        {
          "output_type": "stream",
          "name": "stdout",
          "text": [
            "              precision    recall  f1-score   support\n",
            "\n",
            "          -2       0.32      0.63      0.43       473\n",
            "          -1       0.54      0.52      0.53      2746\n",
            "           0       0.73      0.56      0.63      4180\n",
            "           1       0.29      0.59      0.39       523\n",
            "           2       0.47      0.72      0.57       105\n",
            "\n",
            "    accuracy                           0.56      8027\n",
            "   macro avg       0.47      0.61      0.51      8027\n",
            "weighted avg       0.61      0.56      0.57      8027\n",
            "\n"
          ]
        }
      ]
    },
    {
      "cell_type": "markdown",
      "source": [
        "## Random Forest"
      ],
      "metadata": {
        "id": "ZjVK8CjXxSf_"
      }
    },
    {
      "cell_type": "code",
      "source": [
        "from sklearn.ensemble import RandomForestClassifier\n"
      ],
      "metadata": {
        "id": "Etwgj458yR44"
      },
      "execution_count": null,
      "outputs": []
    },
    {
      "cell_type": "code",
      "source": [
        "model = RandomForestClassifier(n_estimators=3000,criterion='gini', max_depth=20)"
      ],
      "metadata": {
        "id": "TvJUBv36Ntd3"
      },
      "execution_count": null,
      "outputs": []
    },
    {
      "cell_type": "code",
      "source": [
        "model.fit(X_train, y_train)\n",
        "y_pred = model.predict(X_test)\n",
        "print(metrics.classification_report(y_test, y_pred))"
      ],
      "metadata": {
        "colab": {
          "base_uri": "https://localhost:8080/"
        },
        "id": "2PN2wAVB1_Ff",
        "outputId": "e9110145-01a1-460e-c2b5-f068443abb08"
      },
      "execution_count": null,
      "outputs": [
        {
          "output_type": "stream",
          "name": "stdout",
          "text": [
            "              precision    recall  f1-score   support\n",
            "\n",
            "          -2       0.55      0.62      0.58       473\n",
            "          -1       0.60      0.60      0.60      2746\n",
            "           0       0.73      0.70      0.72      4180\n",
            "           1       0.55      0.64      0.59       523\n",
            "           2       0.52      0.68      0.59       105\n",
            "\n",
            "    accuracy                           0.66      8027\n",
            "   macro avg       0.59      0.65      0.62      8027\n",
            "weighted avg       0.66      0.66      0.66      8027\n",
            "\n"
          ]
        }
      ]
    },
    {
      "cell_type": "markdown",
      "source": [
        "## Bayes"
      ],
      "metadata": {
        "id": "6MZMYcW_3IvY"
      }
    },
    {
      "cell_type": "code",
      "source": [
        "from sklearn.naive_bayes import GaussianNB"
      ],
      "metadata": {
        "id": "MvZEJPVE3KGa"
      },
      "execution_count": null,
      "outputs": []
    },
    {
      "cell_type": "code",
      "source": [
        "model = GaussianNB()"
      ],
      "metadata": {
        "id": "loej4T923Zsz"
      },
      "execution_count": null,
      "outputs": []
    },
    {
      "cell_type": "code",
      "source": [
        "model.fit(X_train, y_train)\n",
        "y_pred = model.predict(X_test)\n",
        "print(metrics.classification_report(y_test, y_pred))"
      ],
      "metadata": {
        "colab": {
          "base_uri": "https://localhost:8080/"
        },
        "id": "cQRJlsH-3L9w",
        "outputId": "1bad6df4-41d3-4e45-f86d-deb503cb7226"
      },
      "execution_count": null,
      "outputs": [
        {
          "output_type": "stream",
          "name": "stdout",
          "text": [
            "              precision    recall  f1-score   support\n",
            "\n",
            "          -2       0.13      0.59      0.21       473\n",
            "          -1       0.46      0.29      0.35      2746\n",
            "           0       0.71      0.40      0.51      4180\n",
            "           1       0.18      0.45      0.26       523\n",
            "           2       0.10      0.48      0.17       105\n",
            "\n",
            "    accuracy                           0.38      8027\n",
            "   macro avg       0.32      0.44      0.30      8027\n",
            "weighted avg       0.55      0.38      0.42      8027\n",
            "\n"
          ]
        }
      ]
    },
    {
      "cell_type": "code",
      "source": [
        "from sklearn.naive_bayes import MultinomialNB"
      ],
      "metadata": {
        "id": "dFSVkLSw3eSK"
      },
      "execution_count": null,
      "outputs": []
    },
    {
      "cell_type": "code",
      "source": [
        "model.fit(X_train, y_train)\n",
        "y_pred = model.predict(X_test)\n",
        "print(metrics.classification_report(y_test, y_pred))"
      ],
      "metadata": {
        "colab": {
          "base_uri": "https://localhost:8080/"
        },
        "id": "e3Lu5GwC4AAj",
        "outputId": "39947038-56bd-451c-d11b-5549469cd917"
      },
      "execution_count": null,
      "outputs": [
        {
          "output_type": "stream",
          "name": "stdout",
          "text": [
            "              precision    recall  f1-score   support\n",
            "\n",
            "          -2       0.13      0.59      0.21       473\n",
            "          -1       0.46      0.29      0.35      2746\n",
            "           0       0.71      0.40      0.51      4180\n",
            "           1       0.18      0.45      0.26       523\n",
            "           2       0.10      0.48      0.17       105\n",
            "\n",
            "    accuracy                           0.38      8027\n",
            "   macro avg       0.32      0.44      0.30      8027\n",
            "weighted avg       0.55      0.38      0.42      8027\n",
            "\n"
          ]
        }
      ]
    },
    {
      "cell_type": "code",
      "source": [
        "from sklearn.naive_bayes import BernoulliNB"
      ],
      "metadata": {
        "id": "Ct1cmhYm4A6J"
      },
      "execution_count": null,
      "outputs": []
    },
    {
      "cell_type": "code",
      "source": [
        "model = BernoulliNB()"
      ],
      "metadata": {
        "id": "IpctuEIv4DT_"
      },
      "execution_count": null,
      "outputs": []
    },
    {
      "cell_type": "code",
      "source": [
        "model.fit(X_train, y_train)\n",
        "y_pred = model.predict(X_test)\n",
        "print(metrics.classification_report(y_test, y_pred))"
      ],
      "metadata": {
        "colab": {
          "base_uri": "https://localhost:8080/"
        },
        "id": "FmsLaDDJ4Kgw",
        "outputId": "fc9b8f31-2ca9-4e84-fd43-c87778040455"
      },
      "execution_count": null,
      "outputs": [
        {
          "output_type": "stream",
          "name": "stdout",
          "text": [
            "              precision    recall  f1-score   support\n",
            "\n",
            "          -2       0.13      0.48      0.20       473\n",
            "          -1       0.46      0.27      0.34      2746\n",
            "           0       0.69      0.42      0.52      4180\n",
            "           1       0.15      0.40      0.22       523\n",
            "           2       0.07      0.45      0.12       105\n",
            "\n",
            "    accuracy                           0.37      8027\n",
            "   macro avg       0.30      0.41      0.28      8027\n",
            "weighted avg       0.53      0.37      0.42      8027\n",
            "\n"
          ]
        }
      ]
    },
    {
      "cell_type": "markdown",
      "source": [
        "## Stacking Classifier"
      ],
      "metadata": {
        "id": "GOAeB8li4m0w"
      }
    },
    {
      "cell_type": "code",
      "source": [
        "from sklearn.ensemble import StackingClassifier\n",
        "from sklearn.linear_model import LogisticRegression\n",
        "from sklearn.tree import DecisionTreeClassifier\n",
        "from sklearn.svm import SVC\n",
        "from sklearn.ensemble import AdaBoostClassifier"
      ],
      "metadata": {
        "id": "brmy0bUt4UDL"
      },
      "execution_count": null,
      "outputs": []
    },
    {
      "cell_type": "code",
      "source": [
        "from sklearn import model_selection\n",
        "kfold = model_selection.KFold(n_splits=3, random_state=None)"
      ],
      "metadata": {
        "id": "HjSFKo1T4sWq"
      },
      "execution_count": null,
      "outputs": []
    },
    {
      "cell_type": "code",
      "source": [
        "estimators = []\n",
        "model2 = LogisticRegression()\n",
        "estimators.append(('logistic', model2))\n",
        "\n",
        "model3 = DecisionTreeClassifier(criterion='gini')\n",
        "estimators.append(('tree', model3))\n",
        "\n",
        "model1 = SVC(gamma=\"scale\", kernel='rbf')\n",
        "estimators.append(('svm', model1))"
      ],
      "metadata": {
        "id": "wLLhgRMA4urY"
      },
      "execution_count": null,
      "outputs": []
    },
    {
      "cell_type": "code",
      "source": [
        "clf = StackingClassifier(estimators=estimators, final_estimator=LogisticRegression(solver='sag', max_iter=1000), cv=kfold)"
      ],
      "metadata": {
        "id": "QNQ3CrBs4w95"
      },
      "execution_count": null,
      "outputs": []
    },
    {
      "cell_type": "code",
      "source": [
        "model.fit(X_train, y_train)\n",
        "y_pred = model.predict(X_test)\n",
        "print(metrics.classification_report(y_test, y_pred))"
      ],
      "metadata": {
        "colab": {
          "base_uri": "https://localhost:8080/"
        },
        "id": "cDYyHTP75jr1",
        "outputId": "3e959fe9-0d70-487d-d33c-679e96f59d11"
      },
      "execution_count": null,
      "outputs": [
        {
          "output_type": "stream",
          "name": "stdout",
          "text": [
            "              precision    recall  f1-score   support\n",
            "\n",
            "          -2       0.13      0.48      0.20       473\n",
            "          -1       0.46      0.27      0.34      2746\n",
            "           0       0.69      0.42      0.52      4180\n",
            "           1       0.15      0.40      0.22       523\n",
            "           2       0.07      0.45      0.12       105\n",
            "\n",
            "    accuracy                           0.37      8027\n",
            "   macro avg       0.30      0.41      0.28      8027\n",
            "weighted avg       0.53      0.37      0.42      8027\n",
            "\n"
          ]
        }
      ]
    },
    {
      "cell_type": "markdown",
      "source": [
        "## Keras"
      ],
      "metadata": {
        "id": "GQjzETHQO7dQ"
      }
    },
    {
      "cell_type": "code",
      "source": [
        "from keras.models import Sequential\n",
        "from keras.layers import Flatten, Dense, Embedding\n",
        "from keras.layers import SimpleRNN, Reshape\n",
        "from keras import layers\n",
        "from keras.layers import LSTM"
      ],
      "metadata": {
        "id": "5yuTgQz3PCbR"
      },
      "execution_count": null,
      "outputs": []
    },
    {
      "cell_type": "code",
      "source": [
        "from sklearn.model_selection import train_test_split\n",
        "x_train, x_valid, y_train, y_valid = train_test_split(X_train, y_train, test_size=0.2)"
      ],
      "metadata": {
        "id": "ESxBtyPPQfnS"
      },
      "execution_count": null,
      "outputs": []
    },
    {
      "cell_type": "code",
      "source": [
        "df_test = pd.read_feather('dataset_test.bin')"
      ],
      "metadata": {
        "id": "YY7YXLFGRV9f"
      },
      "execution_count": null,
      "outputs": []
    },
    {
      "cell_type": "code",
      "source": [
        "y_test = df_test['score'].to_numpy()\n",
        "df_test.drop('score', inplace=True, axis=1)\n",
        "X_test = df_test.to_numpy()"
      ],
      "metadata": {
        "id": "9Sep8mMvRX5O"
      },
      "execution_count": null,
      "outputs": []
    },
    {
      "cell_type": "code",
      "source": [
        "y_dummy_train = pd.get_dummies(y_train)"
      ],
      "metadata": {
        "id": "WRpDQXtLPKhW"
      },
      "execution_count": null,
      "outputs": []
    },
    {
      "cell_type": "code",
      "source": [
        "y_dummy_valid = pd.get_dummies(y_valid)"
      ],
      "metadata": {
        "id": "iBXSkiArPe43"
      },
      "execution_count": null,
      "outputs": []
    },
    {
      "cell_type": "markdown",
      "source": [
        "## RNN"
      ],
      "metadata": {
        "id": "kOc2IlwDTpMT"
      }
    },
    {
      "cell_type": "code",
      "source": [
        "model = Sequential()\n",
        "\n",
        "model.add(layers.Dense(1024, activation='relu', input_shape=(300,)))\n",
        "model.add(Reshape((1, 1024)))\n",
        "model.add(SimpleRNN(512))\n",
        "model.add(layers.Dropout(0.2))\n",
        "model.add(Dense(128, activation='relu'))\n",
        "model.add(Dense(32, activation='relu'))\n",
        "model.add(Dense(5, activation='softmax'))\n",
        "model.summary()"
      ],
      "metadata": {
        "colab": {
          "base_uri": "https://localhost:8080/"
        },
        "id": "4ijbDzBaPmCJ",
        "outputId": "09117d0a-6c24-4583-df74-c345c2e125ac"
      },
      "execution_count": null,
      "outputs": [
        {
          "output_type": "stream",
          "name": "stdout",
          "text": [
            "Model: \"sequential_13\"\n",
            "_________________________________________________________________\n",
            " Layer (type)                Output Shape              Param #   \n",
            "=================================================================\n",
            " dense_38 (Dense)            (None, 1024)              308224    \n",
            "                                                                 \n",
            " reshape_12 (Reshape)        (None, 1, 1024)           0         \n",
            "                                                                 \n",
            " simple_rnn_6 (SimpleRNN)    (None, 512)               786944    \n",
            "                                                                 \n",
            " dropout_9 (Dropout)         (None, 512)               0         \n",
            "                                                                 \n",
            " dense_39 (Dense)            (None, 128)               65664     \n",
            "                                                                 \n",
            " dense_40 (Dense)            (None, 32)                4128      \n",
            "                                                                 \n",
            " dense_41 (Dense)            (None, 5)                 165       \n",
            "                                                                 \n",
            "=================================================================\n",
            "Total params: 1,165,125\n",
            "Trainable params: 1,165,125\n",
            "Non-trainable params: 0\n",
            "_________________________________________________________________\n"
          ]
        }
      ]
    },
    {
      "cell_type": "markdown",
      "source": [
        "## LSTM"
      ],
      "metadata": {
        "id": "LaqT5EvdTtGA"
      }
    },
    {
      "cell_type": "code",
      "source": [
        "model = Sequential()\n",
        "model.add(layers.Dense(512, activation='relu', input_shape=(300,)))\n",
        "model.add(Reshape((1, 512)))\n",
        "\n",
        "model.add(LSTM(128))\n",
        "model.add(Dense(64, activation='relu'))\n",
        "model.add(Dense(5, activation='softmax'))\n",
        "model.summary()"
      ],
      "metadata": {
        "colab": {
          "base_uri": "https://localhost:8080/"
        },
        "id": "HrxiU0cXTdqg",
        "outputId": "393ac734-b57e-4121-dd9c-de3111833e6d"
      },
      "execution_count": null,
      "outputs": [
        {
          "output_type": "stream",
          "name": "stdout",
          "text": [
            "Model: \"sequential_12\"\n",
            "_________________________________________________________________\n",
            " Layer (type)                Output Shape              Param #   \n",
            "=================================================================\n",
            " dense_35 (Dense)            (None, 512)               154112    \n",
            "                                                                 \n",
            " reshape_11 (Reshape)        (None, 1, 512)            0         \n",
            "                                                                 \n",
            " lstm_3 (LSTM)               (None, 128)               328192    \n",
            "                                                                 \n",
            " dense_36 (Dense)            (None, 64)                8256      \n",
            "                                                                 \n",
            " dense_37 (Dense)            (None, 5)                 325       \n",
            "                                                                 \n",
            "=================================================================\n",
            "Total params: 490,885\n",
            "Trainable params: 490,885\n",
            "Non-trainable params: 0\n",
            "_________________________________________________________________\n"
          ]
        }
      ]
    },
    {
      "cell_type": "code",
      "source": [
        "model.compile(optimizer='rmsprop', loss='categorical_crossentropy', metrics=['accuracy'])"
      ],
      "metadata": {
        "id": "ir839vZTPvPW"
      },
      "execution_count": null,
      "outputs": []
    },
    {
      "cell_type": "code",
      "source": [
        "history = model.fit(x_train, y_dummy_train, epochs=30, batch_size=64, validation_data=(x_valid, y_dummy_valid))"
      ],
      "metadata": {
        "colab": {
          "base_uri": "https://localhost:8080/"
        },
        "id": "1RgWtXX3Pzq1",
        "outputId": "28190305-75fe-40dc-8ac0-33b4577d9c34"
      },
      "execution_count": null,
      "outputs": [
        {
          "output_type": "stream",
          "name": "stdout",
          "text": [
            "Epoch 1/30\n",
            "188/188 [==============================] - 3s 7ms/step - loss: 1.2228 - accuracy: 0.4712 - val_loss: 0.8851 - val_accuracy: 0.6333\n",
            "Epoch 2/30\n",
            "188/188 [==============================] - 1s 6ms/step - loss: 0.7462 - accuracy: 0.6992 - val_loss: 0.7531 - val_accuracy: 0.7053\n",
            "Epoch 3/30\n",
            "188/188 [==============================] - 1s 5ms/step - loss: 0.5202 - accuracy: 0.8096 - val_loss: 0.7146 - val_accuracy: 0.7317\n",
            "Epoch 4/30\n",
            "188/188 [==============================] - 1s 5ms/step - loss: 0.3959 - accuracy: 0.8579 - val_loss: 0.8811 - val_accuracy: 0.7210\n",
            "Epoch 5/30\n",
            "188/188 [==============================] - 1s 6ms/step - loss: 0.3242 - accuracy: 0.8848 - val_loss: 0.7618 - val_accuracy: 0.7540\n",
            "Epoch 6/30\n",
            "188/188 [==============================] - 1s 6ms/step - loss: 0.2706 - accuracy: 0.8970 - val_loss: 0.8541 - val_accuracy: 0.7620\n",
            "Epoch 7/30\n",
            "188/188 [==============================] - 1s 6ms/step - loss: 0.2370 - accuracy: 0.9072 - val_loss: 0.8793 - val_accuracy: 0.7690\n",
            "Epoch 8/30\n",
            "188/188 [==============================] - 1s 6ms/step - loss: 0.2139 - accuracy: 0.9122 - val_loss: 1.0233 - val_accuracy: 0.7670\n",
            "Epoch 9/30\n",
            "188/188 [==============================] - 1s 6ms/step - loss: 0.2040 - accuracy: 0.9158 - val_loss: 1.0704 - val_accuracy: 0.7477\n",
            "Epoch 10/30\n",
            "188/188 [==============================] - 1s 5ms/step - loss: 0.1895 - accuracy: 0.9188 - val_loss: 1.1880 - val_accuracy: 0.7633\n",
            "Epoch 11/30\n",
            "188/188 [==============================] - 1s 5ms/step - loss: 0.1823 - accuracy: 0.9182 - val_loss: 1.1198 - val_accuracy: 0.7667\n",
            "Epoch 12/30\n",
            "188/188 [==============================] - 1s 6ms/step - loss: 0.1800 - accuracy: 0.9212 - val_loss: 1.2880 - val_accuracy: 0.7693\n",
            "Epoch 13/30\n",
            "188/188 [==============================] - 1s 6ms/step - loss: 0.1738 - accuracy: 0.9217 - val_loss: 1.3909 - val_accuracy: 0.7543\n",
            "Epoch 14/30\n",
            "188/188 [==============================] - 1s 5ms/step - loss: 0.1694 - accuracy: 0.9240 - val_loss: 1.3779 - val_accuracy: 0.7670\n",
            "Epoch 15/30\n",
            "188/188 [==============================] - 1s 5ms/step - loss: 0.1693 - accuracy: 0.9243 - val_loss: 1.3187 - val_accuracy: 0.7763\n",
            "Epoch 16/30\n",
            "188/188 [==============================] - 1s 6ms/step - loss: 0.1640 - accuracy: 0.9245 - val_loss: 1.2350 - val_accuracy: 0.7633\n",
            "Epoch 17/30\n",
            "188/188 [==============================] - 1s 5ms/step - loss: 0.1644 - accuracy: 0.9258 - val_loss: 1.4407 - val_accuracy: 0.7850\n",
            "Epoch 18/30\n",
            "188/188 [==============================] - 1s 5ms/step - loss: 0.1602 - accuracy: 0.9262 - val_loss: 1.4190 - val_accuracy: 0.7783\n",
            "Epoch 19/30\n",
            "188/188 [==============================] - 1s 6ms/step - loss: 0.1571 - accuracy: 0.9269 - val_loss: 1.6524 - val_accuracy: 0.7800\n",
            "Epoch 20/30\n",
            "188/188 [==============================] - 1s 5ms/step - loss: 0.1570 - accuracy: 0.9286 - val_loss: 1.6026 - val_accuracy: 0.7757\n",
            "Epoch 21/30\n",
            "188/188 [==============================] - 1s 6ms/step - loss: 0.1519 - accuracy: 0.9302 - val_loss: 1.6657 - val_accuracy: 0.7823\n",
            "Epoch 22/30\n",
            "188/188 [==============================] - 1s 5ms/step - loss: 0.1511 - accuracy: 0.9319 - val_loss: 1.4681 - val_accuracy: 0.7670\n",
            "Epoch 23/30\n",
            "188/188 [==============================] - 1s 6ms/step - loss: 0.1490 - accuracy: 0.9302 - val_loss: 1.6513 - val_accuracy: 0.7720\n",
            "Epoch 24/30\n",
            "188/188 [==============================] - 1s 6ms/step - loss: 0.1513 - accuracy: 0.9297 - val_loss: 1.3266 - val_accuracy: 0.7707\n",
            "Epoch 25/30\n",
            "188/188 [==============================] - 1s 6ms/step - loss: 0.1458 - accuracy: 0.9331 - val_loss: 1.7876 - val_accuracy: 0.7640\n",
            "Epoch 26/30\n",
            "188/188 [==============================] - 1s 6ms/step - loss: 0.1465 - accuracy: 0.9327 - val_loss: 1.6923 - val_accuracy: 0.7567\n",
            "Epoch 27/30\n",
            "188/188 [==============================] - 1s 6ms/step - loss: 0.1438 - accuracy: 0.9331 - val_loss: 1.6213 - val_accuracy: 0.7877\n",
            "Epoch 28/30\n",
            "188/188 [==============================] - 1s 6ms/step - loss: 0.1404 - accuracy: 0.9348 - val_loss: 1.9483 - val_accuracy: 0.7713\n",
            "Epoch 29/30\n",
            "188/188 [==============================] - 1s 6ms/step - loss: 0.1462 - accuracy: 0.9343 - val_loss: 1.6296 - val_accuracy: 0.7777\n",
            "Epoch 30/30\n",
            "188/188 [==============================] - 1s 6ms/step - loss: 0.1408 - accuracy: 0.9346 - val_loss: 1.8898 - val_accuracy: 0.7783\n"
          ]
        }
      ]
    },
    {
      "cell_type": "code",
      "source": [
        "predictions = model.predict(X_test)\n",
        "y_preds = np.argmax(predictions, axis=1)\n",
        "y_preds -= 2"
      ],
      "metadata": {
        "colab": {
          "base_uri": "https://localhost:8080/"
        },
        "id": "RQWx0ruFP6Qg",
        "outputId": "ba89629d-e21b-4b17-c90f-cbf16d8b273e"
      },
      "execution_count": null,
      "outputs": [
        {
          "output_type": "stream",
          "name": "stdout",
          "text": [
            "251/251 [==============================] - 1s 2ms/step\n"
          ]
        }
      ]
    },
    {
      "cell_type": "code",
      "source": [
        "print(metrics.classification_report(y_preds, y_test))"
      ],
      "metadata": {
        "colab": {
          "base_uri": "https://localhost:8080/"
        },
        "id": "yuwg5KZ1QHhd",
        "outputId": "e0a01bcb-9836-4de1-a1c9-806ae41553b8"
      },
      "execution_count": null,
      "outputs": [
        {
          "output_type": "stream",
          "name": "stdout",
          "text": [
            "              precision    recall  f1-score   support\n",
            "\n",
            "          -2       0.70      0.33      0.45      1020\n",
            "          -1       0.50      0.57      0.53      2412\n",
            "           0       0.59      0.73      0.65      3344\n",
            "           1       0.68      0.36      0.47       975\n",
            "           2       0.80      0.30      0.44       276\n",
            "\n",
            "    accuracy                           0.57      8027\n",
            "   macro avg       0.65      0.46      0.51      8027\n",
            "weighted avg       0.59      0.57      0.56      8027\n",
            "\n"
          ]
        }
      ]
    },
    {
      "cell_type": "code",
      "source": [
        "print(metrics.classification_report(y_preds, y_test))"
      ],
      "metadata": {
        "id": "iX_AbQvtQKAs",
        "colab": {
          "base_uri": "https://localhost:8080/"
        },
        "outputId": "07f77531-f93d-4284-92c3-a894dcc57866"
      },
      "execution_count": null,
      "outputs": [
        {
          "output_type": "stream",
          "name": "stdout",
          "text": [
            "              precision    recall  f1-score   support\n",
            "\n",
            "          -2       0.73      0.31      0.43      1123\n",
            "          -1       0.51      0.55      0.53      2549\n",
            "           0       0.52      0.76      0.62      2880\n",
            "           1       0.71      0.30      0.42      1238\n",
            "           2       0.79      0.35      0.49       237\n",
            "\n",
            "    accuracy                           0.55      8027\n",
            "   macro avg       0.65      0.45      0.50      8027\n",
            "weighted avg       0.59      0.55      0.53      8027\n",
            "\n"
          ]
        }
      ]
    },
    {
      "cell_type": "code",
      "source": [],
      "metadata": {
        "id": "sIYfR9aFrgps"
      },
      "execution_count": null,
      "outputs": []
    }
  ]
}